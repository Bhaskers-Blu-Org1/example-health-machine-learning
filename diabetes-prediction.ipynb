{
 "cells": [
  {
   "cell_type": "markdown",
   "metadata": {},
   "source": [
    "# Diabetes prediction using synthesized health records\n",
    "\n",
    "This notebook explores how to train a machine learning model to predict type 2 diabetes using synthesized patient health records.  The use of synthesized data allows us to learn about building a model without any concern about the privacy issues surrounding the use of real patient health records.\n",
    "\n",
    "## Prerequisites\n",
    "\n",
    "This project is part of a series of code patterns pertaining to a fictional health care company called Summit Health.  This company stores electronic health records in a database on a z/OS server.  Before running the notebook, the synthesized health records must be created and loaded into this database.  Another project, https://github.com/IBM/summit-health-synthea, provides the steps for doing this.  The records are created using a tool called Synthea (https://github.com/synthetichealth/synthea), transformed and loaded into the database."
   ]
  },
  {
   "cell_type": "markdown",
   "metadata": {},
   "source": [
    "## Load and prepare the data"
   ]
  },
  {
   "cell_type": "markdown",
   "metadata": {},
   "source": [
    "### Set up the information needed for a JDBC connection to your database below\n",
    "The database must be set up by following the instructions in https://github.com/IBM/summit-health-synthea."
   ]
  },
  {
   "cell_type": "code",
   "execution_count": 5,
   "metadata": {},
   "outputs": [],
   "source": [
    "credentials_1 = {\n",
    "  'host':'xxx.yyy.com',\n",
    "  'port':'nnnn',\n",
    "  'username':'user',\n",
    "  'password':'password',\n",
    "  'database':'location',\n",
    "  'schema':'SMHEALTH'\n",
    "}"
   ]
  },
  {
   "cell_type": "markdown",
   "metadata": {},
   "source": [
    "### Define a function to load data from a database table into a Spark dataframe\n",
    "\n",
    "The partitionColumn, lowerBound, upperBound, and numPartitions options are used to load the data more quickly\n",
    "using multiple JDBC connections.  The data is partitioned by patient id.  It is assumed that there are approximately\n",
    "5000 patients in the database.  If there are more or less patients, adjust the upperBound value appropriately."
   ]
  },
  {
   "cell_type": "code",
   "execution_count": 6,
   "metadata": {},
   "outputs": [],
   "source": [
    "def load_data_from_database(table_name):\n",
    "    return (\n",
    "        spark.read.format(\"jdbc\").options(\n",
    "            driver = \"com.ibm.db2.jcc.DB2Driver\",\n",
    "            url = \"jdbc:db2://\" + credentials_1[\"host\"] + \":\" + credentials_1[\"port\"] + \"/\" + credentials_1[\"database\"],\n",
    "            user = credentials_1[\"username\"], \n",
    "            password = credentials_1[\"password\"], \n",
    "            dbtable = credentials_1[\"schema\"] + \".\" + table_name,\n",
    "            partitionColumn = \"patientid\",\n",
    "            lowerBound = 1,\n",
    "            upperBound = 5000,\n",
    "            numPartitions = 10\n",
    "        ).load()\n",
    "    )"
   ]
  },
  {
   "cell_type": "markdown",
   "metadata": {},
   "source": [
    "### Read patient observations from the database\n",
    "\n",
    "The observations include things like blood pressure and cholesterol readings which are potential features for our model."
   ]
  },
  {
   "cell_type": "code",
   "execution_count": 7,
   "metadata": {},
   "outputs": [
    {
     "name": "stdout",
     "output_type": "stream",
     "text": [
      "+---------+-----------------+--------+--------------------+------------+--------------+-------+\n",
      "|PATIENTID|DATEOFOBSERVATION|    CODE|         DESCRIPTION|NUMERICVALUE|CHARACTERVALUE|  UNITS|\n",
      "+---------+-----------------+--------+--------------------+------------+--------------+-------+\n",
      "|      222|       2019-01-26|8302-2  |         Body Height|       49.00|              |     cm|\n",
      "|      222|       2019-01-26|72514-3 |Pain severity - 0...|        1.70|              |{score}|\n",
      "|      222|       2019-01-26|29463-7 |         Body Weight|        4.50|              |     kg|\n",
      "|      222|       2019-01-26|6690-2  |Leukocytes [#/vol...|        5.10|              |10*3/uL|\n",
      "|      222|       2019-01-26|789-8   |Erythrocytes [#/v...|        5.10|              |10*6/uL|\n",
      "+---------+-----------------+--------+--------------------+------------+--------------+-------+\n",
      "only showing top 5 rows\n",
      "\n"
     ]
    }
   ],
   "source": [
    "observations_df = load_data_from_database(\"OBSERVATIONS\")\n",
    "\n",
    "observations_df.show(5)"
   ]
  },
  {
   "cell_type": "markdown",
   "metadata": {},
   "source": [
    "### The observations table has a generalized format with a separate row per observation\n",
    "\n",
    "Let's collect the observations that may be of interest in making a diabetes prediction.\n",
    "First, select systolic blood pressure readings from the observations.  These have code 8480-6."
   ]
  },
  {
   "cell_type": "code",
   "execution_count": 8,
   "metadata": {},
   "outputs": [
    {
     "name": "stdout",
     "output_type": "stream",
     "text": [
      "+---------+-----------------+--------+\n",
      "|patientid|dateofobservation|systolic|\n",
      "+---------+-----------------+--------+\n",
      "|      222|       2019-03-02|  101.30|\n",
      "|       72|       2009-05-16|  122.70|\n",
      "|       72|       2010-05-22|  129.10|\n",
      "|       72|       2011-05-28|  109.00|\n",
      "|       72|       2012-06-02|  135.40|\n",
      "+---------+-----------------+--------+\n",
      "only showing top 5 rows\n",
      "\n"
     ]
    }
   ],
   "source": [
    "from pyspark.sql.functions import col\n",
    "\n",
    "systolic_observations_df = (\n",
    "    observations_df.select(\"patientid\", \"dateofobservation\", \"numericvalue\")\n",
    "                   .withColumnRenamed(\"numericvalue\", \"systolic\")\n",
    "                   .filter((col(\"code\") == \"8480-6\"))\n",
    "  )\n",
    "\n",
    "\n",
    "systolic_observations_df.show(5)"
   ]
  },
  {
   "cell_type": "markdown",
   "metadata": {},
   "source": [
    "### Select other observations of potential interest\n",
    "\n",
    "* Select diastolic blood pressure readings (code 8462-4).\n",
    "* Select HDL cholesterol readings (code 2085-9).\n",
    "* Select LDL cholesterol readings (code 18262-6).\n",
    "* Select BMI (body mass index) readings (code 39156-5)."
   ]
  },
  {
   "cell_type": "code",
   "execution_count": 9,
   "metadata": {},
   "outputs": [],
   "source": [
    "diastolic_observations_df = (\n",
    "    observations_df.select(\"patientid\", \"dateofobservation\", \"numericvalue\")\n",
    "                   .withColumnRenamed('numericvalue', 'diastolic')\n",
    "                   .filter((col(\"code\") == \"8462-4\"))\n",
    "    )\n",
    "\n",
    "hdl_observations_df = (\n",
    "    observations_df.select(\"patientid\", \"dateofobservation\", \"numericvalue\")\n",
    "                   .withColumnRenamed('numericvalue', 'hdl')\n",
    "                   .filter((col(\"code\") == \"2085-9\"))\n",
    "    )\n",
    "\n",
    "ldl_observations_df = (\n",
    "    observations_df.select(\"patientid\", \"dateofobservation\", \"numericvalue\")\n",
    "                   .withColumnRenamed('numericvalue', 'ldl')\n",
    "                   .filter((col(\"code\") == \"18262-6\"))\n",
    "    )\n",
    "\n",
    "bmi_observations_df = (\n",
    "    observations_df.select(\"patientid\", \"dateofobservation\", \"numericvalue\")\n",
    "                   .withColumnRenamed('numericvalue', 'bmi')\n",
    "                   .filter((col(\"code\") == \"39156-5\"))\n",
    "    )"
   ]
  },
  {
   "cell_type": "markdown",
   "metadata": {},
   "source": [
    "### Join the observations for each patient by date into one dataframe"
   ]
  },
  {
   "cell_type": "code",
   "execution_count": 10,
   "metadata": {},
   "outputs": [
    {
     "name": "stdout",
     "output_type": "stream",
     "text": [
      "+---------+-----------------+--------+---------+-----+------+-----+\n",
      "|patientid|dateofobservation|systolic|diastolic|  hdl|   ldl|  bmi|\n",
      "+---------+-----------------+--------+---------+-----+------+-----+\n",
      "|        4|       2011-12-17|  105.10|    77.10|71.00| 86.50|57.70|\n",
      "|      157|       2014-07-16|  138.00|    83.70|21.10|181.40|37.90|\n",
      "|      230|       2010-04-23|  164.70|   117.90|26.20|147.90|35.20|\n",
      "|      244|       2015-04-01|  119.00|    84.30|77.60| 96.20|25.50|\n",
      "|      290|       2018-08-21|  130.60|    70.90|73.90| 77.80|47.10|\n",
      "+---------+-----------------+--------+---------+-----+------+-----+\n",
      "only showing top 5 rows\n",
      "\n"
     ]
    }
   ],
   "source": [
    "merged_observations_df = (\n",
    "    systolic_observations_df.join(diastolic_observations_df, [\"patientid\", \"dateofobservation\"])\n",
    "                            .join(hdl_observations_df, [\"patientid\", \"dateofobservation\"])\n",
    "                            .join(ldl_observations_df, [\"patientid\", \"dateofobservation\"])\n",
    "                            .join(bmi_observations_df, [\"patientid\", \"dateofobservation\"])\n",
    ")\n",
    "\n",
    "merged_observations_df.show(5)"
   ]
  },
  {
   "cell_type": "markdown",
   "metadata": {},
   "source": [
    "### Another possible feature is the patient's age at the time of observation\n",
    "\n",
    "Load the patients' birth dates from the database into a dataframe."
   ]
  },
  {
   "cell_type": "code",
   "execution_count": 11,
   "metadata": {},
   "outputs": [
    {
     "name": "stdout",
     "output_type": "stream",
     "text": [
      "+---------+-----------+\n",
      "|patientid|dateofbirth|\n",
      "+---------+-----------+\n",
      "|        1| 2017-07-04|\n",
      "|        2| 1965-04-14|\n",
      "|        3| 1996-09-14|\n",
      "|        4| 1958-11-29|\n",
      "|        5| 1979-01-28|\n",
      "+---------+-----------+\n",
      "only showing top 5 rows\n",
      "\n"
     ]
    }
   ],
   "source": [
    "patients_df = load_data_from_database(\"PATIENT\").select(\"patientid\", \"dateofbirth\")\n",
    "\n",
    "patients_df.show(5)"
   ]
  },
  {
   "cell_type": "markdown",
   "metadata": {},
   "source": [
    "Add a column containing the patient's age to the merged observations."
   ]
  },
  {
   "cell_type": "code",
   "execution_count": 12,
   "metadata": {},
   "outputs": [
    {
     "name": "stdout",
     "output_type": "stream",
     "text": [
      "+---------+-----------------+--------+---------+-----+-----+-----+-----------------+\n",
      "|patientid|dateofobservation|systolic|diastolic|  hdl|  ldl|  bmi|              age|\n",
      "+---------+-----------------+--------+---------+-----+-----+-----+-----------------+\n",
      "|      463|       2016-02-13|  136.90|    81.10|66.60|76.20|35.80|55.57808219178082|\n",
      "|      463|       2013-01-26|  113.40|    77.50|77.30|91.40|35.80|52.52876712328767|\n",
      "|      463|       2019-03-02|  123.60|    71.60|73.80|95.50|35.80|58.62739726027397|\n",
      "|      463|       2010-01-09|  113.50|    70.60|71.20|76.00|35.80|49.47945205479452|\n",
      "|      471|       2017-07-12|  155.60|    99.00|59.00|83.70|38.30|35.19178082191781|\n",
      "+---------+-----------------+--------+---------+-----+-----+-----+-----------------+\n",
      "only showing top 5 rows\n",
      "\n"
     ]
    }
   ],
   "source": [
    "from pyspark.sql.functions import datediff\n",
    "\n",
    "merged_observations_with_age_df = (\n",
    "  merged_observations_df.join(patients_df, \"patientid\")\n",
    "                        .withColumn(\"age\", datediff(col(\"dateofobservation\"), col(\"dateofbirth\"))/365)\n",
    "                        .drop(\"dateofbirth\")\n",
    "  )\n",
    "\n",
    "merged_observations_with_age_df.show(5)"
   ]
  },
  {
   "cell_type": "markdown",
   "metadata": {},
   "source": [
    "### Find the patients that have been diagnosed with type 2 diabetes\n",
    "\n",
    "The conditions table contains the conditions that patients have and the date they were diagnosed.\n",
    "Load the patient conditions table and select the patients that have been diagnosed with type 2 diabetes.\n",
    "Keep the date they were diagnosed (\"start\" column)."
   ]
  },
  {
   "cell_type": "code",
   "execution_count": 13,
   "metadata": {},
   "outputs": [
    {
     "name": "stdout",
     "output_type": "stream",
     "text": [
      "+---------+----------+\n",
      "|patientid|     start|\n",
      "+---------+----------+\n",
      "|       66|2003-06-28|\n",
      "|      281|2012-07-20|\n",
      "|      230|2008-04-18|\n",
      "|      157|1994-12-28|\n",
      "|      251|2011-02-11|\n",
      "+---------+----------+\n",
      "only showing top 5 rows\n",
      "\n"
     ]
    }
   ],
   "source": [
    "diabetics_df = (\n",
    "    load_data_from_database(\"CONDITIONS\")\n",
    "    .select(\"patientid\", \"start\")\n",
    "    .filter(col(\"description\") == \"Diabetes\")\n",
    ")\n",
    "\n",
    "diabetics_df.show(5)"
   ]
  },
  {
   "cell_type": "markdown",
   "metadata": {},
   "source": [
    "### Create a \"diabetic\" column which is the \"label\" for the model to predict\n",
    "\n",
    "Join the merged observations with the diabetic patients.\n",
    "This is a left join so that we keep all observations for both diabetic and non-diabetic patients.\n",
    "Create a new column with a binary value, 1=diabetic, 0=non-diabetic.\n",
    "This will be the label for the model (the value it is trying to predict)."
   ]
  },
  {
   "cell_type": "code",
   "execution_count": 14,
   "metadata": {},
   "outputs": [
    {
     "name": "stdout",
     "output_type": "stream",
     "text": [
      "+---------+-----------------+--------+---------+-----+-----+-----+-----------------+-----+--------+\n",
      "|patientid|dateofobservation|systolic|diastolic|  hdl|  ldl|  bmi|              age|start|diabetic|\n",
      "+---------+-----------------+--------+---------+-----+-----+-----+-----------------+-----+--------+\n",
      "|      463|       2013-01-26|  113.40|    77.50|77.30|91.40|35.80|52.52876712328767| null|       0|\n",
      "|      463|       2010-01-09|  113.50|    70.60|71.20|76.00|35.80|49.47945205479452| null|       0|\n",
      "|      463|       2016-02-13|  136.90|    81.10|66.60|76.20|35.80|55.57808219178082| null|       0|\n",
      "|      463|       2019-03-02|  123.60|    71.60|73.80|95.50|35.80|58.62739726027397| null|       0|\n",
      "|      471|       2017-07-12|  155.60|    99.00|59.00|83.70|38.30|35.19178082191781| null|       0|\n",
      "+---------+-----------------+--------+---------+-----+-----+-----+-----------------+-----+--------+\n",
      "only showing top 5 rows\n",
      "\n"
     ]
    }
   ],
   "source": [
    "from pyspark.sql.functions import when\n",
    "\n",
    "observations_and_condition_df = (\n",
    "    merged_observations_with_age_df.join(diabetics_df, \"patientid\", \"left_outer\")\n",
    "    .withColumn(\"diabetic\", when(col(\"start\").isNotNull(), 1).otherwise(0))\n",
    ")\n",
    "\n",
    "observations_and_condition_df.show(5)"
   ]
  },
  {
   "cell_type": "markdown",
   "metadata": {},
   "source": [
    "### Filter the observations for diabetics to remove those taken before diagnosis\n",
    "\n",
    "This is driven by the way that the diabetes simulation works in Synthea.  The impact of the condition (diabetes) is not reflected in the observations until the patient is diagnosed with the condition in a wellness visit.  Prior to that the patient's observations won't be any different from a non-diabetic patient.  Therefore we want only the observations at the time the patients were diabetic."
   ]
  },
  {
   "cell_type": "code",
   "execution_count": 15,
   "metadata": {},
   "outputs": [],
   "source": [
    "observations_and_condition_df = (\n",
    "    observations_and_condition_df.filter((col(\"diabetic\") == 0) | ((col(\"dateofobservation\") >= col(\"start\"))))\n",
    ")"
   ]
  },
  {
   "cell_type": "markdown",
   "metadata": {},
   "source": [
    "### Reduce the observations to a single observation per patient (the earliest available observation)"
   ]
  },
  {
   "cell_type": "code",
   "execution_count": 16,
   "metadata": {},
   "outputs": [],
   "source": [
    "from pyspark.sql.window import Window\n",
    "from pyspark.sql.functions import row_number\n",
    "\n",
    "w = Window.partitionBy(observations_and_condition_df[\"patientid\"]).orderBy(merged_observations_df[\"dateofobservation\"].asc())\n",
    "\n",
    "first_observation_df = observations_and_condition_df.withColumn(\"rn\", row_number().over(w)).where(col(\"rn\") == 1).drop(\"rn\")"
   ]
  },
  {
   "cell_type": "markdown",
   "metadata": {},
   "source": [
    "## Visualize data\n",
    "\n",
    "At this point we have collected some observations which might be relevant to making a diabetes prediction.  The next step is to look for relationships between those observations and having diabetes.  There are many tools that help visualize data to look for relationships.  One of the easiest ones to use is called Pixiedust (https://github.com/pixiedust/pixiedust).\n",
    "\n",
    "Install the pixiedust visualization tool."
   ]
  },
  {
   "cell_type": "code",
   "execution_count": 17,
   "metadata": {},
   "outputs": [],
   "source": [
    "# !pip install --upgrade pixiedust"
   ]
  },
  {
   "cell_type": "markdown",
   "metadata": {},
   "source": [
    "### Use Pixiedust to visualize whether observations correlate with diabetes\n",
    "\n",
    "The PixieDust interactive widget appears when you run this cell.\n",
    "* Click the chart button and choose Scatter Plot.\n",
    "* Click the chart options button.  Drag \"ldl\" into the Keys box and drag \"hdl\" into the Values box.\n",
    "Set the # of Rows to Display to 5000.  Click OK to close the chart options.\n",
    "* Select bokeh from the Renderer dropdown menu.\n",
    "* Select diabetic from the Color dropdown menu.\n",
    "\n",
    "The scatter plot chart appears.\n",
    "\n",
    "Click Options and try replacing \"ldl\" and \"hdl\" with other attributes."
   ]
  },
  {
   "cell_type": "code",
   "execution_count": 18,
   "metadata": {
    "pixiedust": {
     "displayParams": {
      "chartsize": "100",
      "color": "diabetic",
      "handlerId": "scatterPlot",
      "keyFields": "ldl",
      "rendererId": "bokeh",
      "rowCount": "1000",
      "valueFields": "hdl"
     }
    }
   },
   "outputs": [
    {
     "data": {
      "text/html": [
       "<style type=\"text/css\">.pd_warning{display:none;}</style><div class=\"pd_warning\"><em>Hey, there's something awesome here! To see it, open this notebook outside GitHub, in a viewer like Jupyter</em></div>\n",
       "        <div class=\"pd_save is-viewer-good\" style=\"padding-right:10px;text-align: center;line-height:initial !important;font-size: xx-large;font-weight: 500;color: coral;\">\n",
       "            \n",
       "        </div>\n",
       "    <div id=\"chartFigure202ee529\" class=\"pd_save is-viewer-good\" style=\"overflow-x:auto\">\n",
       "            \n",
       "                    <script class=\"pd_save\">\n",
       "                    function setChartScript() {\n",
       "                        if (!window.Bokeh) {\n",
       "                            setTimeout(setChartScript, 250)\n",
       "                        } else {\n",
       "                            var d = document.getElementById(\"pd-bkchartdiv-202ee529\")\n",
       "                            if (d){\n",
       "                                var el = document.createElement('div')\n",
       "                                el.innerHTML = `\n",
       "<script type=\"text/javascript\">\n",
       "    (function() {\n",
       "  var fn = function() {\n",
       "    Bokeh.safely(function() {\n",
       "      (function(root) {\n",
       "        function embed_document(root) {\n",
       "          var docs_json = {\"abbec489-e74c-4401-9bd7-94e7c0c52cbe\":{\"roots\":{\"references\":[{\"attributes\":{\"callback\":null},\"id\":\"20c0135c-ecd4-4f9f-8adf-398992ae4bd5\",\"type\":\"DataRange1d\"},{\"attributes\":{\"fill_alpha\":{\"value\":0.1},\"fill_color\":{\"value\":\"#1f77b4\"},\"line_alpha\":{\"value\":0.1},\"line_color\":{\"value\":\"#1f77b4\"},\"size\":{\"units\":\"screen\",\"value\":8},\"x\":{\"field\":\"x\"},\"y\":{\"field\":\"y\"}},\"id\":\"64bc0576-102d-47c4-b4d7-b06ff248746a\",\"type\":\"Circle\"},{\"attributes\":{\"source\":{\"id\":\"ec7d7e7e-d3b4-472f-a16b-f4ccb2204ba9\",\"type\":\"ColumnDataSource\"}},\"id\":\"6f8c5135-4143-4e9d-9fdf-862158d1fb7d\",\"type\":\"CDSView\"},{\"attributes\":{\"fill_alpha\":{\"value\":0.5},\"fill_color\":{\"value\":\"#ff7f0e\"},\"line_color\":{\"value\":\"#ff7f0e\"},\"size\":{\"units\":\"screen\",\"value\":8},\"x\":{\"field\":\"x\"},\"y\":{\"field\":\"y\"}},\"id\":\"405403d6-9204-4c9d-ba0b-ca4fdcb1550f\",\"type\":\"Circle\"},{\"attributes\":{\"label\":{\"value\":\"1\"},\"renderers\":[{\"id\":\"d26ccb02-66a7-46d7-ad6b-419e914258fc\",\"type\":\"GlyphRenderer\"}]},\"id\":\"2aa4afa5-7ae4-48a4-a84e-a83b36ce9eae\",\"type\":\"LegendItem\"},{\"attributes\":{\"callback\":null,\"tooltips\":[[\"ldl\",\"@x\"],[\"hdl\",\"@y\"]]},\"id\":\"9f74ca27-b6fb-47b7-a257-f955c678bd65\",\"type\":\"HoverTool\"},{\"attributes\":{},\"id\":\"c5b3c2a1-97c5-482c-98f7-2a89548b1a9f\",\"type\":\"HelpTool\"},{\"attributes\":{},\"id\":\"a28370cc-d42b-45c5-96f1-719348850dc9\",\"type\":\"LinearScale\"},{\"attributes\":{\"overlay\":{\"id\":\"f73303fd-82d8-407a-9e3f-be6de26cfb92\",\"type\":\"BoxAnnotation\"}},\"id\":\"304fd023-e79c-4409-b8ca-cfa8f1f273be\",\"type\":\"BoxZoomTool\"},{\"attributes\":{},\"id\":\"85ae81b6-ae8d-46d4-9d56-b5cff6ad9ad9\",\"type\":\"BasicTicker\"},{\"attributes\":{\"items\":[{\"id\":\"2aa4afa5-7ae4-48a4-a84e-a83b36ce9eae\",\"type\":\"LegendItem\"}],\"location\":\"top_left\",\"plot\":{\"id\":\"6d22663d-049c-4592-9f01-7fab48d27523\",\"subtype\":\"Figure\",\"type\":\"Plot\"}},\"id\":\"8b235dd5-9cee-4bdc-8b06-64bbc74e0033\",\"type\":\"Legend\"},{\"attributes\":{\"axis_label\":\"ldl\",\"formatter\":{\"id\":\"af6ec123-0323-4ea1-8c37-d18f78fa4c16\",\"type\":\"BasicTickFormatter\"},\"plot\":{\"id\":\"6d22663d-049c-4592-9f01-7fab48d27523\",\"subtype\":\"Figure\",\"type\":\"Plot\"},\"ticker\":{\"id\":\"85ae81b6-ae8d-46d4-9d56-b5cff6ad9ad9\",\"type\":\"BasicTicker\"}},\"id\":\"624dee31-d6f1-4f19-a7a0-d6d122763731\",\"type\":\"LinearAxis\"},{\"attributes\":{},\"id\":\"446dfe69-ddc2-47dd-ba43-f06a1baf71bb\",\"type\":\"WheelZoomTool\"},{\"attributes\":{\"bottom_units\":\"screen\",\"fill_alpha\":{\"value\":0.5},\"fill_color\":{\"value\":\"lightgrey\"},\"left_units\":\"screen\",\"level\":\"overlay\",\"line_alpha\":{\"value\":1.0},\"line_color\":{\"value\":\"black\"},\"line_dash\":[4,4],\"line_width\":{\"value\":2},\"plot\":null,\"render_mode\":\"css\",\"right_units\":\"screen\",\"top_units\":\"screen\"},\"id\":\"f73303fd-82d8-407a-9e3f-be6de26cfb92\",\"type\":\"BoxAnnotation\"},{\"attributes\":{\"fill_alpha\":{\"value\":0.5},\"fill_color\":{\"value\":\"#1f77b4\"},\"line_color\":{\"value\":\"#1f77b4\"},\"size\":{\"units\":\"screen\",\"value\":8},\"x\":{\"field\":\"x\"},\"y\":{\"field\":\"y\"}},\"id\":\"15a61898-7cdb-4541-9cc4-75f1ba4ea7d6\",\"type\":\"Circle\"},{\"attributes\":{\"grid_line_alpha\":{\"value\":0.3},\"plot\":{\"id\":\"6d22663d-049c-4592-9f01-7fab48d27523\",\"subtype\":\"Figure\",\"type\":\"Plot\"},\"ticker\":{\"id\":\"85ae81b6-ae8d-46d4-9d56-b5cff6ad9ad9\",\"type\":\"BasicTicker\"}},\"id\":\"38b8bd11-aebe-4db2-9e80-26246de0d5d5\",\"type\":\"Grid\"},{\"attributes\":{},\"id\":\"aa1e649a-109a-48a2-b326-9ffd8040c8ef\",\"type\":\"BasicTickFormatter\"},{\"attributes\":{\"axis_label\":\"hdl\",\"formatter\":{\"id\":\"aa1e649a-109a-48a2-b326-9ffd8040c8ef\",\"type\":\"BasicTickFormatter\"},\"plot\":{\"id\":\"6d22663d-049c-4592-9f01-7fab48d27523\",\"subtype\":\"Figure\",\"type\":\"Plot\"},\"ticker\":{\"id\":\"70b20fd4-df37-47e9-a60f-255eccbe1209\",\"type\":\"BasicTicker\"}},\"id\":\"2d1a8970-0e57-4abb-a1e9-b0fbbee24b4b\",\"type\":\"LinearAxis\"},{\"attributes\":{\"below\":[{\"id\":\"624dee31-d6f1-4f19-a7a0-d6d122763731\",\"type\":\"LinearAxis\"}],\"left\":[{\"id\":\"2d1a8970-0e57-4abb-a1e9-b0fbbee24b4b\",\"type\":\"LinearAxis\"}],\"plot_height\":490,\"plot_width\":726,\"renderers\":[{\"id\":\"624dee31-d6f1-4f19-a7a0-d6d122763731\",\"type\":\"LinearAxis\"},{\"id\":\"38b8bd11-aebe-4db2-9e80-26246de0d5d5\",\"type\":\"Grid\"},{\"id\":\"2d1a8970-0e57-4abb-a1e9-b0fbbee24b4b\",\"type\":\"LinearAxis\"},{\"id\":\"2bb4a710-c8d3-4ce5-982a-aef49a7b3cb8\",\"type\":\"Grid\"},{\"id\":\"f73303fd-82d8-407a-9e3f-be6de26cfb92\",\"type\":\"BoxAnnotation\"},{\"id\":\"aaccf42e-b98b-4783-bee5-efaa059d77b1\",\"type\":\"GlyphRenderer\"},{\"id\":\"8b235dd5-9cee-4bdc-8b06-64bbc74e0033\",\"type\":\"Legend\"},{\"id\":\"d26ccb02-66a7-46d7-ad6b-419e914258fc\",\"type\":\"GlyphRenderer\"}],\"title\":{\"id\":\"dec30b2d-0976-4126-a57d-969bf32c41be\",\"type\":\"Title\"},\"toolbar\":{\"id\":\"dcbee2e7-04f9-44b3-9d21-c425a66d94fe\",\"type\":\"Toolbar\"},\"x_range\":{\"id\":\"f7a5b613-9d14-4158-afcb-339f59bd508a\",\"type\":\"DataRange1d\"},\"x_scale\":{\"id\":\"a28370cc-d42b-45c5-96f1-719348850dc9\",\"type\":\"LinearScale\"},\"y_range\":{\"id\":\"20c0135c-ecd4-4f9f-8adf-398992ae4bd5\",\"type\":\"DataRange1d\"},\"y_scale\":{\"id\":\"a8bd3d00-10c2-404a-907f-3171dcf37d41\",\"type\":\"LinearScale\"}},\"id\":\"6d22663d-049c-4592-9f01-7fab48d27523\",\"subtype\":\"Figure\",\"type\":\"Plot\"},{\"attributes\":{},\"id\":\"a8bd3d00-10c2-404a-907f-3171dcf37d41\",\"type\":\"LinearScale\"},{\"attributes\":{\"dimension\":1,\"grid_line_alpha\":{\"value\":0.3},\"plot\":{\"id\":\"6d22663d-049c-4592-9f01-7fab48d27523\",\"subtype\":\"Figure\",\"type\":\"Plot\"},\"ticker\":{\"id\":\"70b20fd4-df37-47e9-a60f-255eccbe1209\",\"type\":\"BasicTicker\"}},\"id\":\"2bb4a710-c8d3-4ce5-982a-aef49a7b3cb8\",\"type\":\"Grid\"},{\"attributes\":{},\"id\":\"1b06cd82-3b01-448c-af2a-b86f21da1531\",\"type\":\"PanTool\"},{\"attributes\":{\"fill_alpha\":{\"value\":0.1},\"fill_color\":{\"value\":\"#1f77b4\"},\"line_alpha\":{\"value\":0.1},\"line_color\":{\"value\":\"#1f77b4\"},\"size\":{\"units\":\"screen\",\"value\":8},\"x\":{\"field\":\"x\"},\"y\":{\"field\":\"y\"}},\"id\":\"48440ee1-c0c8-4746-8b49-23ede1ba9bac\",\"type\":\"Circle\"},{\"attributes\":{\"callback\":null},\"id\":\"f7a5b613-9d14-4158-afcb-339f59bd508a\",\"type\":\"DataRange1d\"},{\"attributes\":{},\"id\":\"c7139a6f-ce59-4bdb-b565-ec3777b7e424\",\"type\":\"ResetTool\"},{\"attributes\":{\"source\":{\"id\":\"02a434cf-4279-4d14-9950-c9c69762b932\",\"type\":\"ColumnDataSource\"}},\"id\":\"acd36837-1f75-4c3a-a258-0be0a7cd93ab\",\"type\":\"CDSView\"},{\"attributes\":{\"callback\":null,\"column_names\":[\"x\",\"y\"],\"data\":{\"x\":[61.7,63.6,65.4,69.2,70.8,75.8,77.3,81.8,83.7,84.5,84.9,85.8,86.7,88.2,89.0,89.4,89.9,91.3,91.4,92.6,93.4,93.8,94.3,97.3,99.1,110.0,113.2,115.5,115.9,115.9,117.1,120.5,120.8,121.6,121.6,122.2,122.6,123.0,123.2,123.9,124.6,125.0,125.4,125.5,127.0,127.5,129.3,129.4,129.5,130.4,132.7,134.0,134.1,135.1,135.9,136.4,136.4,137.3,138.7,138.9,139.5,139.9,140.1,140.2,140.3,140.7,141.0,144.2,146.5,146.9,147.0,147.9,149.5,150.9,151.7,152.2,152.2,152.7,153.0,153.0,153.2,154.0,155.4,155.8,156.5,157.7,158.3,159.8,160.7,161.0,161.4,163.8,163.9,164.2,167.6,168.5,168.6,169.2,173.8,174.2,174.5,179.7,184.1],\"y\":[70.6,76.8,68.3,61.7,67.0,75.8,77.2,65.0,60.4,63.1,77.0,59.7,72.6,60.3,76.3,61.2,70.8,68.1,69.2,59.2,75.6,68.7,68.8,76.7,70.2,57.8,31.2,51.1,57.2,29.9,51.2,52.6,54.6,46.7,54.3,48.5,49.9,45.2,45.9,54.9,44.6,53.5,41.9,47.6,31.7,48.0,27.4,49.8,56.8,33.5,55.3,54.5,52.5,15.9,31.4,23.2,50.0,40.8,46.7,33.5,43.8,12.1,19.9,33.5,54.9,15.3,40.1,53.1,27.8,19.0,14.9,11.5,41.8,18.1,40.5,18.9,47.4,10.4,44.2,25.1,40.5,17.0,49.7,41.4,16.1,12.1,13.7,22.2,21.6,23.0,39.6,29.6,35.2,37.7,28.8,8.1,30.7,23.0,34.3,36.2,31.5,1.3,31.7]}},\"id\":\"02a434cf-4279-4d14-9950-c9c69762b932\",\"type\":\"ColumnDataSource\"},{\"attributes\":{},\"id\":\"af6ec123-0323-4ea1-8c37-d18f78fa4c16\",\"type\":\"BasicTickFormatter\"},{\"attributes\":{\"plot\":null,\"text\":\"\"},\"id\":\"dec30b2d-0976-4126-a57d-969bf32c41be\",\"type\":\"Title\"},{\"attributes\":{\"active_drag\":\"auto\",\"active_inspect\":\"auto\",\"active_scroll\":\"auto\",\"active_tap\":\"auto\",\"tools\":[{\"id\":\"1b06cd82-3b01-448c-af2a-b86f21da1531\",\"type\":\"PanTool\"},{\"id\":\"446dfe69-ddc2-47dd-ba43-f06a1baf71bb\",\"type\":\"WheelZoomTool\"},{\"id\":\"304fd023-e79c-4409-b8ca-cfa8f1f273be\",\"type\":\"BoxZoomTool\"},{\"id\":\"53df681f-3d11-496f-aad9-3b8c0e2ec3ff\",\"type\":\"SaveTool\"},{\"id\":\"c7139a6f-ce59-4bdb-b565-ec3777b7e424\",\"type\":\"ResetTool\"},{\"id\":\"c5b3c2a1-97c5-482c-98f7-2a89548b1a9f\",\"type\":\"HelpTool\"},{\"id\":\"9f74ca27-b6fb-47b7-a257-f955c678bd65\",\"type\":\"HoverTool\"}]},\"id\":\"dcbee2e7-04f9-44b3-9d21-c425a66d94fe\",\"type\":\"Toolbar\"},{\"attributes\":{},\"id\":\"70b20fd4-df37-47e9-a60f-255eccbe1209\",\"type\":\"BasicTicker\"},{\"attributes\":{\"data_source\":{\"id\":\"ec7d7e7e-d3b4-472f-a16b-f4ccb2204ba9\",\"type\":\"ColumnDataSource\"},\"glyph\":{\"id\":\"15a61898-7cdb-4541-9cc4-75f1ba4ea7d6\",\"type\":\"Circle\"},\"hover_glyph\":null,\"muted_glyph\":null,\"nonselection_glyph\":{\"id\":\"64bc0576-102d-47c4-b4d7-b06ff248746a\",\"type\":\"Circle\"},\"selection_glyph\":null,\"view\":{\"id\":\"6f8c5135-4143-4e9d-9fdf-862158d1fb7d\",\"type\":\"CDSView\"}},\"id\":\"aaccf42e-b98b-4783-bee5-efaa059d77b1\",\"type\":\"GlyphRenderer\"},{\"attributes\":{},\"id\":\"53df681f-3d11-496f-aad9-3b8c0e2ec3ff\",\"type\":\"SaveTool\"},{\"attributes\":{\"callback\":null,\"column_names\":[\"x\",\"y\"],\"data\":{\"x\":[54.5,54.7,56.0,56.4,56.6,56.7,56.7,56.7,56.9,57.6,57.6,57.6,58.1,59.0,59.0,59.7,59.8,60.0,60.1,60.1,60.1,60.3,60.3,60.4,60.7,60.7,60.7,60.8,60.9,61.1,61.2,61.3,61.5,61.5,61.5,61.6,61.7,61.9,62.0,62.0,62.1,62.2,62.2,62.2,62.2,62.3,62.4,62.4,62.9,63.0,63.3,63.6,63.6,63.9,64.0,64.1,64.4,64.5,64.6,64.7,64.8,65.0,65.1,65.3,65.3,65.4,65.5,65.6,65.6,65.8,65.9,65.9,66.0,66.0,66.2,66.3,66.3,66.4,66.4,66.5,66.6,66.6,66.6,66.7,66.7,66.8,66.8,66.8,66.9,67.1,67.1,67.2,67.2,67.3,67.4,67.5,67.5,67.6,67.6,67.6,67.6,67.7,67.7,67.9,68.0,68.0,68.1,68.2,68.2,68.2,68.3,68.4,68.4,68.5,68.7,68.7,68.7,68.9,68.9,69.0,69.0,69.1,69.1,69.1,69.2,69.3,69.3,69.3,69.4,69.5,69.5,69.6,69.7,69.9,69.9,69.9,70.0,70.0,70.0,70.1,70.2,70.3,70.3,70.3,70.4,70.4,70.4,70.5,70.5,70.7,70.7,70.8,70.8,70.8,70.9,70.9,71.0,71.0,71.1,71.1,71.1,71.1,71.4,71.4,71.5,71.5,71.6,71.6,71.8,71.9,71.9,71.9,71.9,71.9,71.9,72.0,72.1,72.2,72.3,72.4,72.4,72.5,72.6,72.6,72.7,72.8,72.8,72.9,73.1,73.2,73.3,73.3,73.3,73.3,73.4,73.4,73.5,73.5,73.6,73.8,73.8,73.8,73.8,73.8,73.9,73.9,74.0,74.0,74.0,74.1,74.2,74.2,74.2,74.3,74.3,74.5,74.6,74.6,74.7,74.7,74.7,74.8,74.8,74.8,74.8,75.0,75.0,75.1,75.2,75.2,75.2,75.2,75.3,75.4,75.4,75.5,75.6,75.8,75.8,75.8,75.8,75.9,75.9,76.0,76.0,76.0,76.1,76.1,76.1,76.1,76.2,76.2,76.2,76.3,76.3,76.3,76.3,76.4,76.4,76.5,76.6,76.6,76.6,76.6,76.7,76.7,76.7,76.7,76.8,76.8,76.9,77.1,77.1,77.2,77.2,77.3,77.3,77.3,77.3,77.4,77.4,77.4,77.4,77.5,77.6,77.6,77.6,77.7,77.8,77.8,77.8,77.8,77.9,77.9,78.0,78.0,78.0,78.1,78.1,78.2,78.2,78.2,78.2,78.2,78.3,78.3,78.3,78.4,78.4,78.4,78.5,78.5,78.6,78.6,78.7,78.7,78.7,78.7,78.8,78.8,78.8,78.9,78.9,79.0,79.1,79.2,79.2,79.2,79.2,79.2,79.2,79.3,79.3,79.4,79.5,79.7,79.7,79.7,79.7,79.7,79.8,79.8,79.8,79.8,79.8,79.9,79.9,79.9,79.9,80.0,80.0,80.0,80.1,80.1,80.2,80.2,80.2,80.3,80.3,80.4,80.4,80.4,80.4,80.5,80.5,80.6,80.6,80.7,80.8,80.8,80.9,80.9,80.9,80.9,80.9,81.0,81.1,81.1,81.1,81.1,81.2,81.2,81.2,81.2,81.2,81.3,81.4,81.4,81.4,81.4,81.5,81.5,81.5,81.6,81.7,81.8,81.8,81.8,81.9,81.9,82.0,82.0,82.1,82.1,82.2,82.2,82.2,82.3,82.3,82.3,82.4,82.4,82.4,82.4,82.5,82.5,82.6,82.6,82.6,82.7,82.7,82.7,82.9,83.0,83.0,83.1,83.1,83.1,83.2,83.2,83.3,83.3,83.3,83.4,83.4,83.5,83.5,83.5,83.5,83.5,83.6,83.6,83.7,83.8,83.8,83.8,83.8,83.9,83.9,83.9,84.0,84.1,84.2,84.2,84.2,84.3,84.4,84.5,84.5,84.7,84.7,84.7,84.8,84.8,84.8,84.9,84.9,84.9,84.9,85.0,85.1,85.1,85.1,85.1,85.2,85.2,85.2,85.2,85.3,85.3,85.5,85.5,85.5,85.6,85.7,85.7,85.7,85.7,85.8,85.8,85.8,85.9,85.9,85.9,85.9,85.9,86.1,86.1,86.2,86.2,86.3,86.4,86.4,86.4,86.4,86.5,86.5,86.5,86.7,86.7,86.7,86.8,86.8,86.9,87.0,87.0,87.0,87.1,87.1,87.1,87.2,87.2,87.2,87.2,87.3,87.3,87.4,87.4,87.5,87.6,87.6,87.6,87.7,87.9,87.9,88.0,88.0,88.1,88.1,88.2,88.2,88.2,88.2,88.2,88.2,88.3,88.3,88.5,88.5,88.5,88.5,88.5,88.5,88.6,88.6,88.7,88.7,88.7,88.7,88.7,88.9,89.0,89.1,89.1,89.2,89.2,89.2,89.3,89.4,89.4,89.5,89.5,89.6,89.6,89.6,89.6,89.6,89.8,89.9,89.9,89.9,89.9,89.9,90.0,90.0,90.0,90.0,90.0,90.0,90.1,90.1,90.1,90.2,90.2,90.3,90.4,90.7,90.7,90.8,90.9,91.0,91.2,91.2,91.3,91.3,91.3,91.3,91.3,91.4,91.4,91.4,91.5,91.5,91.5,91.5,91.5,91.5,91.6,91.6,91.7,91.7,91.7,91.7,91.8,91.8,91.8,91.9,91.9,92.1,92.1,92.1,92.1,92.2,92.2,92.3,92.4,92.5,92.5,92.5,92.6,92.6,92.6,92.7,92.7,92.8,92.8,93.0,93.1,93.1,93.1,93.1,93.2,93.2,93.2,93.3,93.4,93.4,93.4,93.4,93.5,93.5,93.5,93.6,93.7,93.7,93.7,93.8,93.9,93.9,94.0,94.0,94.1,94.2,94.2,94.3,94.3,94.3,94.4,94.4,94.4,94.6,94.6,94.6,94.6,94.7,94.7,95.1,95.1,95.2,95.3,95.3,95.3,95.5,95.5,95.6,95.6,95.6,95.7,95.9,96.0,96.0,96.1,96.2,96.2,96.2,96.2,96.3,96.3,96.3,96.3,96.3,96.4,96.4,96.5,96.5,96.6,96.7,96.7,96.7,96.8,96.8,96.8,96.8,96.9,96.9,96.9,97.0,97.1,97.1,97.2,97.2,97.3,97.3,97.3,97.3,97.4,97.4,97.5,97.6,97.6,97.6,97.7,97.7,97.8,97.8,97.9,98.0,98.1,98.1,98.2,98.2,98.2,98.3,98.3,98.5,98.6,98.6,98.6,98.7,98.8,98.9,99.0,99.1,99.3,99.4,99.4,99.4,99.6,99.6,99.7,99.8,99.8,99.8,100.0,100.0,100.0,100.1,100.1,100.1,100.2,100.2,100.4,100.5,100.6,100.6,100.6,100.7,100.7,100.9,100.9,100.9,100.9,101.0,101.0,101.1,101.3,101.5,101.5,101.6,101.7,101.7,101.7,101.8,101.9,101.9,102.1,102.1,102.1,102.2,102.2,102.2,102.3,102.3,102.4,102.4,102.5,102.5,102.6,102.6,102.7,102.8,102.8,102.9,102.9,102.9,103.0,103.1,103.2,103.3,103.3,103.4,103.5,103.5,103.6,103.7,103.9,104.2,104.2,104.4,104.4,104.4,104.5,104.6,104.6,104.6,104.6,104.9,105.0,105.3,105.3,105.3,105.6,105.6,105.7,105.9,106.1,106.2,106.2,106.2,106.2,107.2,107.5,107.5,107.6,107.6,107.7,107.7,107.8,107.8,107.8,108.0,108.1,108.1,108.6,108.7,108.7,108.8,109.0,109.1,109.1,109.1,109.1,109.2,109.4,109.4,109.5,109.7,109.8,109.8,110.0,110.0,110.0,110.3,110.4,110.4,110.5,110.9,111.1,111.3,111.4,111.4,111.4,111.5,111.7,111.7,111.8,111.8,111.8,111.9,112.0,112.1,112.6,112.9,113.2,114.3,114.5,115.5,115.9,115.9,117.1,117.6,120.5,120.8,121.4,121.6,121.6,122.2,122.6,123.0,123.2,123.9,124.6,125.0,125.4,125.5,127.0,127.5,129.3,129.4,129.5,130.4,132.7,134.0,134.1,135.1,135.9,136.4,136.4,137.3,138.7,138.7,138.9,139.5,139.9,140.1,140.2,140.3,140.7,141.0,141.0,144.2,146.5,146.9,147.0,147.9,149.5,150.9,151.7,152.2,152.2,152.7,153.0,153.0,153.2,154.0,155.4,155.8,156.5,156.7,157.7,158.3,159.8,160.7,161.0,161.4,163.8,163.9,164.2,167.0,167.6,168.5,168.6,169.2,173.8,174.2,174.5,178.8,179.7,184.1,199.2],\"y\":[77.8,80.0,78.2,79.5,80.0,77.6,76.6,76.9,77.7,78.1,78.4,77.7,79.3,76.4,76.6,74.7,77.4,78.9,76.5,78.7,71.8,74.2,77.5,77.7,78.9,72.8,75.7,75.1,69.5,71.0,77.4,78.6,74.4,79.8,79.3,74.9,70.6,78.7,73.8,76.7,79.7,73.2,78.0,72.2,78.1,79.4,78.8,73.9,70.4,78.8,73.5,73.9,76.8,78.6,74.1,68.8,74.1,79.7,77.3,75.2,69.9,68.9,70.4,72.4,72.8,68.3,77.0,76.0,77.1,75.4,74.1,72.7,79.1,71.3,79.1,75.0,73.6,73.0,77.7,71.6,72.9,79.2,75.4,79.7,64.4,76.0,69.0,79.8,68.8,77.2,68.6,70.3,68.6,72.0,69.2,72.8,68.0,74.9,77.6,69.0,77.9,74.2,73.9,70.8,75.2,76.0,79.6,72.1,76.9,76.6,78.2,67.3,72.9,77.0,79.3,75.1,76.5,67.6,74.1,73.4,72.7,75.3,76.5,71.0,61.7,79.2,78.0,66.9,74.9,73.1,76.1,75.7,75.8,65.1,66.9,73.2,76.5,71.0,60.8,72.3,73.1,80.0,78.1,68.9,74.6,67.3,75.0,71.4,72.0,62.6,64.3,69.0,66.1,67.0,64.2,71.6,74.4,77.2,74.8,75.5,79.2,63.7,75.6,74.0,68.6,79.2,79.2,75.2,72.1,68.6,64.7,59.2,67.5,67.9,71.4,75.8,71.8,75.6,77.3,73.5,66.0,66.6,68.6,69.4,72.5,70.9,62.2,68.9,74.9,67.2,60.5,62.3,70.4,77.4,64.0,70.2,74.4,71.0,60.5,72.3,66.8,64.8,76.1,69.7,77.3,70.1,65.2,74.0,77.1,70.6,66.7,73.4,75.5,70.5,79.5,75.0,76.6,77.2,60.9,72.1,65.8,73.2,77.8,65.8,64.8,75.2,69.7,79.4,65.5,76.1,67.8,63.5,60.6,77.8,60.9,79.4,72.1,62.6,69.3,75.8,75.8,79.0,66.7,73.8,73.9,74.3,70.2,63.8,70.1,73.4,76.1,72.3,78.0,77.1,79.6,60.8,77.3,79.4,66.9,73.4,74.6,75.6,75.4,64.8,70.4,79.4,75.9,73.5,73.4,67.7,66.0,71.1,61.2,74.3,66.5,60.6,76.3,70.1,77.2,72.7,64.7,79.5,64.6,67.6,71.6,73.7,71.5,66.4,69.2,70.7,77.8,61.8,71.3,72.1,77.0,68.3,60.7,76.9,71.9,66.8,68.1,67.2,61.5,60.2,77.3,75.5,65.3,71.1,68.1,78.3,70.7,65.7,67.6,74.3,61.6,71.9,62.6,74.7,69.6,70.5,62.8,78.4,68.8,64.1,69.4,65.7,67.9,68.4,74.9,78.5,59.0,73.0,72.0,71.8,70.2,60.9,65.6,76.4,64.2,67.8,59.5,61.2,59.0,76.0,79.9,79.2,68.4,74.4,67.4,65.9,78.8,67.8,65.9,71.5,79.8,74.0,64.8,67.5,70.0,75.5,78.7,67.3,61.7,66.4,67.2,74.3,59.8,69.9,65.0,63.2,62.0,61.3,79.7,63.4,78.7,77.6,70.9,65.7,59.5,70.2,76.2,67.9,75.7,77.9,78.4,79.6,64.5,73.8,65.6,67.7,68.0,79.9,66.3,63.6,62.3,68.1,60.3,65.0,61.2,70.6,66.1,75.5,79.1,78.9,72.9,63.4,67.9,67.4,72.3,77.2,64.8,75.7,68.1,70.2,66.7,69.1,72.1,61.5,74.8,65.3,72.6,61.9,63.2,66.1,66.1,63.9,69.9,61.1,59.4,65.3,64.5,60.0,64.8,62.2,72.3,69.8,60.0,59.2,72.4,59.5,78.8,75.1,60.4,60.1,75.1,73.6,67.2,76.4,63.5,62.1,77.0,73.9,60.7,71.9,61.2,76.5,80.0,63.4,63.1,76.8,68.6,59.2,69.2,79.7,64.9,72.4,79.8,61.7,77.0,72.8,65.0,69.8,67.8,69.2,71.6,72.1,60.1,74.5,65.0,68.4,66.7,68.8,72.6,66.3,62.8,75.4,69.9,61.8,66.2,77.0,59.7,69.7,78.5,65.8,73.1,62.0,61.2,63.7,69.3,66.3,62.4,64.8,66.5,72.9,70.6,76.6,73.8,71.0,62.0,78.2,72.6,71.5,71.4,65.6,59.8,73.4,74.9,74.3,75.8,67.7,64.3,70.1,74.2,78.4,69.5,67.3,73.9,59.8,61.0,79.9,64.6,65.2,65.9,59.5,74.1,75.8,72.3,69.7,65.3,77.5,76.0,73.0,71.3,79.2,60.3,63.0,79.6,74.3,63.1,62.9,71.5,66.6,79.9,69.7,68.6,76.8,70.3,68.6,70.6,61.8,74.8,76.3,78.2,59.6,65.3,76.6,63.9,75.4,77.4,61.2,75.3,74.4,63.3,59.2,79.1,77.7,65.8,65.3,72.4,76.9,68.4,64.5,70.8,68.6,67.1,59.7,72.7,73.4,76.7,73.6,69.6,70.2,63.7,61.0,65.4,77.4,73.4,65.4,70.8,63.3,78.1,59.1,69.9,66.8,76.3,76.2,69.4,68.1,69.2,76.7,69.2,68.8,79.5,72.7,73.5,63.1,70.6,76.1,67.4,71.0,62.9,75.2,75.3,71.7,59.2,65.4,61.8,74.8,62.9,74.3,70.8,74.7,74.8,68.6,61.9,76.8,67.8,76.7,74.3,76.1,59.5,59.2,76.2,60.4,65.8,63.6,76.0,71.7,71.7,60.0,67.8,72.1,66.6,77.2,62.7,69.1,70.2,73.9,75.6,62.0,73.0,70.8,65.8,62.6,70.7,75.9,68.7,62.1,72.5,66.4,74.2,78.7,76.8,73.5,68.8,61.2,68.8,73.9,60.0,67.1,75.0,74.5,69.1,60.5,68.7,76.0,74.3,59.0,73.7,61.1,67.7,74.4,66.0,74.6,68.4,63.7,70.3,72.7,60.8,77.8,63.7,74.1,74.1,67.6,71.1,59.7,71.6,70.7,71.9,70.1,66.1,64.9,72.0,67.2,72.8,59.8,75.3,67.5,70.8,60.0,61.1,60.3,67.7,67.8,59.7,61.3,69.8,62.4,67.1,62.6,79.4,59.9,69.9,74.4,76.7,65.9,63.9,72.1,68.0,67.7,74.7,77.4,68.2,67.5,71.9,70.2,64.0,65.3,71.3,69.5,74.9,63.4,68.8,71.5,65.3,67.3,76.7,62.2,64.7,60.2,61.6,64.3,70.2,68.4,64.2,69.0,60.8,60.1,71.1,75.8,64.1,69.0,67.0,66.3,62.8,72.9,68.9,73.3,59.5,70.8,61.1,59.5,64.8,62.6,68.6,73.0,62.7,70.9,61.3,68.1,59.9,60.8,68.5,67.1,64.9,64.0,70.6,64.2,72.9,72.9,62.4,67.5,62.8,73.4,60.3,72.5,69.7,65.4,69.8,62.6,73.8,62.2,68.4,60.3,70.8,74.9,73.1,62.5,64.7,73.3,76.5,63.5,63.3,65.6,65.9,62.4,65.5,59.6,70.3,59.7,66.1,62.4,69.3,68.1,66.1,59.4,66.3,59.8,59.9,64.7,65.4,59.5,67.1,64.6,65.5,63.3,66.6,60.4,70.8,62.0,63.7,60.3,64.9,60.7,64.5,62.1,59.1,71.1,63.1,60.8,59.5,71.0,69.7,63.2,59.5,63.9,61.1,68.5,65.7,63.4,60.9,62.2,59.9,65.9,65.2,63.1,64.4,62.4,66.9,60.3,67.1,67.0,67.7,60.0,60.6,65.3,67.3,67.9,64.6,64.5,64.7,57.8,59.1,63.5,59.4,60.6,60.4,62.9,66.6,63.7,60.3,59.3,64.0,65.7,62.8,60.8,59.1,61.8,60.6,60.0,60.7,40.3,59.8,31.2,63.5,59.1,51.1,57.2,29.9,51.2,45.3,52.6,54.6,59.0,46.7,54.3,48.5,49.9,45.2,45.9,54.9,44.6,53.5,41.9,47.6,31.7,48.0,27.4,49.8,56.8,33.5,55.3,54.5,52.5,15.9,31.4,23.2,50.0,40.8,23.2,46.7,33.5,43.8,12.1,19.9,33.5,54.9,15.3,29.5,40.1,53.1,27.8,19.0,14.9,11.5,41.8,18.1,40.5,18.9,47.4,10.4,44.2,25.1,40.5,17.0,49.7,41.4,16.1,34.6,12.1,13.7,22.2,21.6,23.0,39.6,29.6,35.2,37.7,40.1,28.8,8.1,30.7,23.0,34.3,36.2,31.5,63.7,1.3,31.7,25.8]}},\"id\":\"ec7d7e7e-d3b4-472f-a16b-f4ccb2204ba9\",\"type\":\"ColumnDataSource\"},{\"attributes\":{\"data_source\":{\"id\":\"02a434cf-4279-4d14-9950-c9c69762b932\",\"type\":\"ColumnDataSource\"},\"glyph\":{\"id\":\"405403d6-9204-4c9d-ba0b-ca4fdcb1550f\",\"type\":\"Circle\"},\"hover_glyph\":null,\"muted_glyph\":null,\"nonselection_glyph\":{\"id\":\"48440ee1-c0c8-4746-8b49-23ede1ba9bac\",\"type\":\"Circle\"},\"selection_glyph\":null,\"view\":{\"id\":\"acd36837-1f75-4c3a-a258-0be0a7cd93ab\",\"type\":\"CDSView\"}},\"id\":\"d26ccb02-66a7-46d7-ad6b-419e914258fc\",\"type\":\"GlyphRenderer\"}],\"root_ids\":[\"6d22663d-049c-4592-9f01-7fab48d27523\"]},\"title\":\"Bokeh Application\",\"version\":\"0.12.10\"}};\n",
       "          var render_items = [{\"docid\":\"abbec489-e74c-4401-9bd7-94e7c0c52cbe\",\"elementid\":\"09b3a380-62dc-4957-a5fc-1e7eed6e98cc\",\"modelid\":\"6d22663d-049c-4592-9f01-7fab48d27523\"}];\n",
       "      \n",
       "          root.Bokeh.embed.embed_items(docs_json, render_items);\n",
       "        }\n",
       "      \n",
       "        if (root.Bokeh !== undefined) {\n",
       "          embed_document(root);\n",
       "        } else {\n",
       "          var attempts = 0;\n",
       "          var timer = setInterval(function(root) {\n",
       "            if (root.Bokeh !== undefined) {\n",
       "              embed_document(root);\n",
       "              clearInterval(timer);\n",
       "            }\n",
       "            attempts++;\n",
       "            if (attempts > 100) {\n",
       "              console.log(\"Bokeh: ERROR: Unable to embed document because BokehJS library is missing\")\n",
       "              clearInterval(timer);\n",
       "            }\n",
       "          }, 10, root)\n",
       "        }\n",
       "      })(window);\n",
       "    });\n",
       "  };\n",
       "  if (document.readyState != \"loading\") fn();\n",
       "  else document.addEventListener(\"DOMContentLoaded\", fn);\n",
       "})();\n",
       "\n",
       "<\\/script>`\n",
       "                                var chartscript = el.childNodes[1]\n",
       "                                var s = document.createElement(\"script\")\n",
       "                                s.innerHTML = chartscript.innerHTML\n",
       "                                d.parentNode.insertBefore(s, d)\n",
       "                            }\n",
       "                        }\n",
       "                    }\n",
       "                    if (!window.Bokeh && !window.autoload){\n",
       "                        window.autoload=true;\n",
       "                        \n",
       "(function(root) {\n",
       "  function now() {\n",
       "    return new Date();\n",
       "  }\n",
       "\n",
       "  var force = 1;\n",
       "\n",
       "  if (typeof (root._bokeh_onload_callbacks) === \"undefined\" || force === true) {\n",
       "    root._bokeh_onload_callbacks = [];\n",
       "    root._bokeh_is_loading = undefined;\n",
       "  }\n",
       "\n",
       "  \n",
       "\n",
       "  \n",
       "  if (typeof (root._bokeh_timeout) === \"undefined\" || force === true) {\n",
       "    root._bokeh_timeout = Date.now() + 5000;\n",
       "    root._bokeh_failed_load = false;\n",
       "  }\n",
       "\n",
       "  var NB_LOAD_WARNING = {'data': {'text/html':\n",
       "     \"<div style='background-color: #fdd'>\\n\"+\n",
       "     \"<p>\\n\"+\n",
       "     \"BokehJS does not appear to have successfully loaded. If loading BokehJS from CDN, this \\n\"+\n",
       "     \"may be due to a slow or bad network connection. Possible fixes:\\n\"+\n",
       "     \"</p>\\n\"+\n",
       "     \"<ul>\\n\"+\n",
       "     \"<li>re-rerun `output_notebook()` to attempt to load from CDN again, or</li>\\n\"+\n",
       "     \"<li>use INLINE resources instead, as so:</li>\\n\"+\n",
       "     \"</ul>\\n\"+\n",
       "     \"<code>\\n\"+\n",
       "     \"from bokeh.resources import INLINE\\n\"+\n",
       "     \"output_notebook(resources=INLINE)\\n\"+\n",
       "     \"</code>\\n\"+\n",
       "     \"</div>\"}};\n",
       "\n",
       "  function display_loaded() {\n",
       "    var el = document.getElementById(\"\");\n",
       "    if (el != null) {\n",
       "      el.textContent = \"BokehJS is loading...\";\n",
       "    }\n",
       "    if (root.Bokeh !== undefined) {\n",
       "      if (el != null) {\n",
       "        el.textContent = \"BokehJS \" + root.Bokeh.version + \" successfully loaded.\";\n",
       "      }\n",
       "    } else if (Date.now() < root._bokeh_timeout) {\n",
       "      setTimeout(display_loaded, 100)\n",
       "    }\n",
       "  }\n",
       "\n",
       "\n",
       "  function run_callbacks() {\n",
       "    try {\n",
       "      root._bokeh_onload_callbacks.forEach(function(callback) { callback() });\n",
       "    }\n",
       "    finally {\n",
       "      delete root._bokeh_onload_callbacks\n",
       "    }\n",
       "    console.info(\"Bokeh: all callbacks have finished\");\n",
       "  }\n",
       "\n",
       "  function load_libs(js_urls, callback) {\n",
       "    root._bokeh_onload_callbacks.push(callback);\n",
       "    if (root._bokeh_is_loading > 0) {\n",
       "      console.log(\"Bokeh: BokehJS is being loaded, scheduling callback at\", now());\n",
       "      return null;\n",
       "    }\n",
       "    if (js_urls == null || js_urls.length === 0) {\n",
       "      run_callbacks();\n",
       "      return null;\n",
       "    }\n",
       "    console.log(\"Bokeh: BokehJS not loaded, scheduling load and callback at\", now());\n",
       "    root._bokeh_is_loading = js_urls.length;\n",
       "    for (var i = 0; i < js_urls.length; i++) {\n",
       "      var url = js_urls[i];\n",
       "      var s = document.createElement('script');\n",
       "      s.src = url;\n",
       "      s.async = false;\n",
       "      s.onreadystatechange = s.onload = function() {\n",
       "        root._bokeh_is_loading--;\n",
       "        if (root._bokeh_is_loading === 0) {\n",
       "          console.log(\"Bokeh: all BokehJS libraries loaded\");\n",
       "          run_callbacks()\n",
       "        }\n",
       "      };\n",
       "      s.onerror = function() {\n",
       "        console.warn(\"failed to load library \" + url);\n",
       "      };\n",
       "      console.log(\"Bokeh: injecting script tag for BokehJS library: \", url);\n",
       "      document.getElementsByTagName(\"head\")[0].appendChild(s);\n",
       "    }\n",
       "  };\n",
       "\n",
       "  var js_urls = [\"https://cdn.pydata.org/bokeh/release/bokeh-0.12.10.min.js\", \"https://cdn.pydata.org/bokeh/release/bokeh-widgets-0.12.10.min.js\", \"https://cdn.pydata.org/bokeh/release/bokeh-tables-0.12.10.min.js\", \"https://cdn.pydata.org/bokeh/release/bokeh-gl-0.12.10.min.js\"];\n",
       "\n",
       "  var inline_js = [\n",
       "    function(Bokeh) {\n",
       "      Bokeh.set_log_level(\"info\");\n",
       "    },\n",
       "    function(Bokeh) {\n",
       "      console.log(\"Bokeh: injecting CSS: https://cdn.pydata.org/bokeh/release/bokeh-0.12.10.min.css\");\n",
       "      Bokeh.embed.inject_css(\"https://cdn.pydata.org/bokeh/release/bokeh-0.12.10.min.css\");\n",
       "      console.log(\"Bokeh: injecting CSS: https://cdn.pydata.org/bokeh/release/bokeh-widgets-0.12.10.min.css\");\n",
       "      Bokeh.embed.inject_css(\"https://cdn.pydata.org/bokeh/release/bokeh-widgets-0.12.10.min.css\");\n",
       "      console.log(\"Bokeh: injecting CSS: https://cdn.pydata.org/bokeh/release/bokeh-tables-0.12.10.min.css\");\n",
       "      Bokeh.embed.inject_css(\"https://cdn.pydata.org/bokeh/release/bokeh-tables-0.12.10.min.css\");\n",
       "    }\n",
       "  ];\n",
       "\n",
       "  function run_inline_js() {\n",
       "    \n",
       "    if ((root.Bokeh !== undefined) || (force === true)) {\n",
       "      for (var i = 0; i < inline_js.length; i++) {\n",
       "        inline_js[i].call(root, root.Bokeh);\n",
       "      }} else if (Date.now() < root._bokeh_timeout) {\n",
       "      setTimeout(run_inline_js, 100);\n",
       "    } else if (!root._bokeh_failed_load) {\n",
       "      console.log(\"Bokeh: BokehJS failed to load within specified timeout.\");\n",
       "      root._bokeh_failed_load = true;\n",
       "    } else if (force !== true) {\n",
       "      var cell = $(document.getElementById(\"\")).parents('.cell').data().cell;\n",
       "      cell.output_area.append_execute_result(NB_LOAD_WARNING)\n",
       "    }\n",
       "\n",
       "  }\n",
       "\n",
       "  if (root._bokeh_is_loading === 0) {\n",
       "    console.log(\"Bokeh: BokehJS loaded, going straight to plotting\");\n",
       "    run_inline_js();\n",
       "  } else {\n",
       "    load_libs(js_urls, function() {\n",
       "      console.log(\"Bokeh: BokehJS plotting callback run at\", now());\n",
       "      run_inline_js();\n",
       "    });\n",
       "  }\n",
       "}(window));\n",
       "                    }\n",
       "                    setChartScript()\n",
       "                    </script>\n",
       "                    <script>\n",
       "    (function() {\n",
       "  var fn = function() {\n",
       "    Bokeh.safely(function() {\n",
       "      (function(root) {\n",
       "        function embed_document(root) {\n",
       "          var docs_json = {\"abbec489-e74c-4401-9bd7-94e7c0c52cbe\":{\"roots\":{\"references\":[{\"attributes\":{\"callback\":null},\"id\":\"20c0135c-ecd4-4f9f-8adf-398992ae4bd5\",\"type\":\"DataRange1d\"},{\"attributes\":{\"fill_alpha\":{\"value\":0.1},\"fill_color\":{\"value\":\"#1f77b4\"},\"line_alpha\":{\"value\":0.1},\"line_color\":{\"value\":\"#1f77b4\"},\"size\":{\"units\":\"screen\",\"value\":8},\"x\":{\"field\":\"x\"},\"y\":{\"field\":\"y\"}},\"id\":\"64bc0576-102d-47c4-b4d7-b06ff248746a\",\"type\":\"Circle\"},{\"attributes\":{\"source\":{\"id\":\"ec7d7e7e-d3b4-472f-a16b-f4ccb2204ba9\",\"type\":\"ColumnDataSource\"}},\"id\":\"6f8c5135-4143-4e9d-9fdf-862158d1fb7d\",\"type\":\"CDSView\"},{\"attributes\":{\"fill_alpha\":{\"value\":0.5},\"fill_color\":{\"value\":\"#ff7f0e\"},\"line_color\":{\"value\":\"#ff7f0e\"},\"size\":{\"units\":\"screen\",\"value\":8},\"x\":{\"field\":\"x\"},\"y\":{\"field\":\"y\"}},\"id\":\"405403d6-9204-4c9d-ba0b-ca4fdcb1550f\",\"type\":\"Circle\"},{\"attributes\":{\"label\":{\"value\":\"1\"},\"renderers\":[{\"id\":\"d26ccb02-66a7-46d7-ad6b-419e914258fc\",\"type\":\"GlyphRenderer\"}]},\"id\":\"2aa4afa5-7ae4-48a4-a84e-a83b36ce9eae\",\"type\":\"LegendItem\"},{\"attributes\":{\"callback\":null,\"tooltips\":[[\"ldl\",\"@x\"],[\"hdl\",\"@y\"]]},\"id\":\"9f74ca27-b6fb-47b7-a257-f955c678bd65\",\"type\":\"HoverTool\"},{\"attributes\":{},\"id\":\"c5b3c2a1-97c5-482c-98f7-2a89548b1a9f\",\"type\":\"HelpTool\"},{\"attributes\":{},\"id\":\"a28370cc-d42b-45c5-96f1-719348850dc9\",\"type\":\"LinearScale\"},{\"attributes\":{\"overlay\":{\"id\":\"f73303fd-82d8-407a-9e3f-be6de26cfb92\",\"type\":\"BoxAnnotation\"}},\"id\":\"304fd023-e79c-4409-b8ca-cfa8f1f273be\",\"type\":\"BoxZoomTool\"},{\"attributes\":{},\"id\":\"85ae81b6-ae8d-46d4-9d56-b5cff6ad9ad9\",\"type\":\"BasicTicker\"},{\"attributes\":{\"items\":[{\"id\":\"2aa4afa5-7ae4-48a4-a84e-a83b36ce9eae\",\"type\":\"LegendItem\"}],\"location\":\"top_left\",\"plot\":{\"id\":\"6d22663d-049c-4592-9f01-7fab48d27523\",\"subtype\":\"Figure\",\"type\":\"Plot\"}},\"id\":\"8b235dd5-9cee-4bdc-8b06-64bbc74e0033\",\"type\":\"Legend\"},{\"attributes\":{\"axis_label\":\"ldl\",\"formatter\":{\"id\":\"af6ec123-0323-4ea1-8c37-d18f78fa4c16\",\"type\":\"BasicTickFormatter\"},\"plot\":{\"id\":\"6d22663d-049c-4592-9f01-7fab48d27523\",\"subtype\":\"Figure\",\"type\":\"Plot\"},\"ticker\":{\"id\":\"85ae81b6-ae8d-46d4-9d56-b5cff6ad9ad9\",\"type\":\"BasicTicker\"}},\"id\":\"624dee31-d6f1-4f19-a7a0-d6d122763731\",\"type\":\"LinearAxis\"},{\"attributes\":{},\"id\":\"446dfe69-ddc2-47dd-ba43-f06a1baf71bb\",\"type\":\"WheelZoomTool\"},{\"attributes\":{\"bottom_units\":\"screen\",\"fill_alpha\":{\"value\":0.5},\"fill_color\":{\"value\":\"lightgrey\"},\"left_units\":\"screen\",\"level\":\"overlay\",\"line_alpha\":{\"value\":1.0},\"line_color\":{\"value\":\"black\"},\"line_dash\":[4,4],\"line_width\":{\"value\":2},\"plot\":null,\"render_mode\":\"css\",\"right_units\":\"screen\",\"top_units\":\"screen\"},\"id\":\"f73303fd-82d8-407a-9e3f-be6de26cfb92\",\"type\":\"BoxAnnotation\"},{\"attributes\":{\"fill_alpha\":{\"value\":0.5},\"fill_color\":{\"value\":\"#1f77b4\"},\"line_color\":{\"value\":\"#1f77b4\"},\"size\":{\"units\":\"screen\",\"value\":8},\"x\":{\"field\":\"x\"},\"y\":{\"field\":\"y\"}},\"id\":\"15a61898-7cdb-4541-9cc4-75f1ba4ea7d6\",\"type\":\"Circle\"},{\"attributes\":{\"grid_line_alpha\":{\"value\":0.3},\"plot\":{\"id\":\"6d22663d-049c-4592-9f01-7fab48d27523\",\"subtype\":\"Figure\",\"type\":\"Plot\"},\"ticker\":{\"id\":\"85ae81b6-ae8d-46d4-9d56-b5cff6ad9ad9\",\"type\":\"BasicTicker\"}},\"id\":\"38b8bd11-aebe-4db2-9e80-26246de0d5d5\",\"type\":\"Grid\"},{\"attributes\":{},\"id\":\"aa1e649a-109a-48a2-b326-9ffd8040c8ef\",\"type\":\"BasicTickFormatter\"},{\"attributes\":{\"axis_label\":\"hdl\",\"formatter\":{\"id\":\"aa1e649a-109a-48a2-b326-9ffd8040c8ef\",\"type\":\"BasicTickFormatter\"},\"plot\":{\"id\":\"6d22663d-049c-4592-9f01-7fab48d27523\",\"subtype\":\"Figure\",\"type\":\"Plot\"},\"ticker\":{\"id\":\"70b20fd4-df37-47e9-a60f-255eccbe1209\",\"type\":\"BasicTicker\"}},\"id\":\"2d1a8970-0e57-4abb-a1e9-b0fbbee24b4b\",\"type\":\"LinearAxis\"},{\"attributes\":{\"below\":[{\"id\":\"624dee31-d6f1-4f19-a7a0-d6d122763731\",\"type\":\"LinearAxis\"}],\"left\":[{\"id\":\"2d1a8970-0e57-4abb-a1e9-b0fbbee24b4b\",\"type\":\"LinearAxis\"}],\"plot_height\":490,\"plot_width\":726,\"renderers\":[{\"id\":\"624dee31-d6f1-4f19-a7a0-d6d122763731\",\"type\":\"LinearAxis\"},{\"id\":\"38b8bd11-aebe-4db2-9e80-26246de0d5d5\",\"type\":\"Grid\"},{\"id\":\"2d1a8970-0e57-4abb-a1e9-b0fbbee24b4b\",\"type\":\"LinearAxis\"},{\"id\":\"2bb4a710-c8d3-4ce5-982a-aef49a7b3cb8\",\"type\":\"Grid\"},{\"id\":\"f73303fd-82d8-407a-9e3f-be6de26cfb92\",\"type\":\"BoxAnnotation\"},{\"id\":\"aaccf42e-b98b-4783-bee5-efaa059d77b1\",\"type\":\"GlyphRenderer\"},{\"id\":\"8b235dd5-9cee-4bdc-8b06-64bbc74e0033\",\"type\":\"Legend\"},{\"id\":\"d26ccb02-66a7-46d7-ad6b-419e914258fc\",\"type\":\"GlyphRenderer\"}],\"title\":{\"id\":\"dec30b2d-0976-4126-a57d-969bf32c41be\",\"type\":\"Title\"},\"toolbar\":{\"id\":\"dcbee2e7-04f9-44b3-9d21-c425a66d94fe\",\"type\":\"Toolbar\"},\"x_range\":{\"id\":\"f7a5b613-9d14-4158-afcb-339f59bd508a\",\"type\":\"DataRange1d\"},\"x_scale\":{\"id\":\"a28370cc-d42b-45c5-96f1-719348850dc9\",\"type\":\"LinearScale\"},\"y_range\":{\"id\":\"20c0135c-ecd4-4f9f-8adf-398992ae4bd5\",\"type\":\"DataRange1d\"},\"y_scale\":{\"id\":\"a8bd3d00-10c2-404a-907f-3171dcf37d41\",\"type\":\"LinearScale\"}},\"id\":\"6d22663d-049c-4592-9f01-7fab48d27523\",\"subtype\":\"Figure\",\"type\":\"Plot\"},{\"attributes\":{},\"id\":\"a8bd3d00-10c2-404a-907f-3171dcf37d41\",\"type\":\"LinearScale\"},{\"attributes\":{\"dimension\":1,\"grid_line_alpha\":{\"value\":0.3},\"plot\":{\"id\":\"6d22663d-049c-4592-9f01-7fab48d27523\",\"subtype\":\"Figure\",\"type\":\"Plot\"},\"ticker\":{\"id\":\"70b20fd4-df37-47e9-a60f-255eccbe1209\",\"type\":\"BasicTicker\"}},\"id\":\"2bb4a710-c8d3-4ce5-982a-aef49a7b3cb8\",\"type\":\"Grid\"},{\"attributes\":{},\"id\":\"1b06cd82-3b01-448c-af2a-b86f21da1531\",\"type\":\"PanTool\"},{\"attributes\":{\"fill_alpha\":{\"value\":0.1},\"fill_color\":{\"value\":\"#1f77b4\"},\"line_alpha\":{\"value\":0.1},\"line_color\":{\"value\":\"#1f77b4\"},\"size\":{\"units\":\"screen\",\"value\":8},\"x\":{\"field\":\"x\"},\"y\":{\"field\":\"y\"}},\"id\":\"48440ee1-c0c8-4746-8b49-23ede1ba9bac\",\"type\":\"Circle\"},{\"attributes\":{\"callback\":null},\"id\":\"f7a5b613-9d14-4158-afcb-339f59bd508a\",\"type\":\"DataRange1d\"},{\"attributes\":{},\"id\":\"c7139a6f-ce59-4bdb-b565-ec3777b7e424\",\"type\":\"ResetTool\"},{\"attributes\":{\"source\":{\"id\":\"02a434cf-4279-4d14-9950-c9c69762b932\",\"type\":\"ColumnDataSource\"}},\"id\":\"acd36837-1f75-4c3a-a258-0be0a7cd93ab\",\"type\":\"CDSView\"},{\"attributes\":{\"callback\":null,\"column_names\":[\"x\",\"y\"],\"data\":{\"x\":[61.7,63.6,65.4,69.2,70.8,75.8,77.3,81.8,83.7,84.5,84.9,85.8,86.7,88.2,89.0,89.4,89.9,91.3,91.4,92.6,93.4,93.8,94.3,97.3,99.1,110.0,113.2,115.5,115.9,115.9,117.1,120.5,120.8,121.6,121.6,122.2,122.6,123.0,123.2,123.9,124.6,125.0,125.4,125.5,127.0,127.5,129.3,129.4,129.5,130.4,132.7,134.0,134.1,135.1,135.9,136.4,136.4,137.3,138.7,138.9,139.5,139.9,140.1,140.2,140.3,140.7,141.0,144.2,146.5,146.9,147.0,147.9,149.5,150.9,151.7,152.2,152.2,152.7,153.0,153.0,153.2,154.0,155.4,155.8,156.5,157.7,158.3,159.8,160.7,161.0,161.4,163.8,163.9,164.2,167.6,168.5,168.6,169.2,173.8,174.2,174.5,179.7,184.1],\"y\":[70.6,76.8,68.3,61.7,67.0,75.8,77.2,65.0,60.4,63.1,77.0,59.7,72.6,60.3,76.3,61.2,70.8,68.1,69.2,59.2,75.6,68.7,68.8,76.7,70.2,57.8,31.2,51.1,57.2,29.9,51.2,52.6,54.6,46.7,54.3,48.5,49.9,45.2,45.9,54.9,44.6,53.5,41.9,47.6,31.7,48.0,27.4,49.8,56.8,33.5,55.3,54.5,52.5,15.9,31.4,23.2,50.0,40.8,46.7,33.5,43.8,12.1,19.9,33.5,54.9,15.3,40.1,53.1,27.8,19.0,14.9,11.5,41.8,18.1,40.5,18.9,47.4,10.4,44.2,25.1,40.5,17.0,49.7,41.4,16.1,12.1,13.7,22.2,21.6,23.0,39.6,29.6,35.2,37.7,28.8,8.1,30.7,23.0,34.3,36.2,31.5,1.3,31.7]}},\"id\":\"02a434cf-4279-4d14-9950-c9c69762b932\",\"type\":\"ColumnDataSource\"},{\"attributes\":{},\"id\":\"af6ec123-0323-4ea1-8c37-d18f78fa4c16\",\"type\":\"BasicTickFormatter\"},{\"attributes\":{\"plot\":null,\"text\":\"\"},\"id\":\"dec30b2d-0976-4126-a57d-969bf32c41be\",\"type\":\"Title\"},{\"attributes\":{\"active_drag\":\"auto\",\"active_inspect\":\"auto\",\"active_scroll\":\"auto\",\"active_tap\":\"auto\",\"tools\":[{\"id\":\"1b06cd82-3b01-448c-af2a-b86f21da1531\",\"type\":\"PanTool\"},{\"id\":\"446dfe69-ddc2-47dd-ba43-f06a1baf71bb\",\"type\":\"WheelZoomTool\"},{\"id\":\"304fd023-e79c-4409-b8ca-cfa8f1f273be\",\"type\":\"BoxZoomTool\"},{\"id\":\"53df681f-3d11-496f-aad9-3b8c0e2ec3ff\",\"type\":\"SaveTool\"},{\"id\":\"c7139a6f-ce59-4bdb-b565-ec3777b7e424\",\"type\":\"ResetTool\"},{\"id\":\"c5b3c2a1-97c5-482c-98f7-2a89548b1a9f\",\"type\":\"HelpTool\"},{\"id\":\"9f74ca27-b6fb-47b7-a257-f955c678bd65\",\"type\":\"HoverTool\"}]},\"id\":\"dcbee2e7-04f9-44b3-9d21-c425a66d94fe\",\"type\":\"Toolbar\"},{\"attributes\":{},\"id\":\"70b20fd4-df37-47e9-a60f-255eccbe1209\",\"type\":\"BasicTicker\"},{\"attributes\":{\"data_source\":{\"id\":\"ec7d7e7e-d3b4-472f-a16b-f4ccb2204ba9\",\"type\":\"ColumnDataSource\"},\"glyph\":{\"id\":\"15a61898-7cdb-4541-9cc4-75f1ba4ea7d6\",\"type\":\"Circle\"},\"hover_glyph\":null,\"muted_glyph\":null,\"nonselection_glyph\":{\"id\":\"64bc0576-102d-47c4-b4d7-b06ff248746a\",\"type\":\"Circle\"},\"selection_glyph\":null,\"view\":{\"id\":\"6f8c5135-4143-4e9d-9fdf-862158d1fb7d\",\"type\":\"CDSView\"}},\"id\":\"aaccf42e-b98b-4783-bee5-efaa059d77b1\",\"type\":\"GlyphRenderer\"},{\"attributes\":{},\"id\":\"53df681f-3d11-496f-aad9-3b8c0e2ec3ff\",\"type\":\"SaveTool\"},{\"attributes\":{\"callback\":null,\"column_names\":[\"x\",\"y\"],\"data\":{\"x\":[54.5,54.7,56.0,56.4,56.6,56.7,56.7,56.7,56.9,57.6,57.6,57.6,58.1,59.0,59.0,59.7,59.8,60.0,60.1,60.1,60.1,60.3,60.3,60.4,60.7,60.7,60.7,60.8,60.9,61.1,61.2,61.3,61.5,61.5,61.5,61.6,61.7,61.9,62.0,62.0,62.1,62.2,62.2,62.2,62.2,62.3,62.4,62.4,62.9,63.0,63.3,63.6,63.6,63.9,64.0,64.1,64.4,64.5,64.6,64.7,64.8,65.0,65.1,65.3,65.3,65.4,65.5,65.6,65.6,65.8,65.9,65.9,66.0,66.0,66.2,66.3,66.3,66.4,66.4,66.5,66.6,66.6,66.6,66.7,66.7,66.8,66.8,66.8,66.9,67.1,67.1,67.2,67.2,67.3,67.4,67.5,67.5,67.6,67.6,67.6,67.6,67.7,67.7,67.9,68.0,68.0,68.1,68.2,68.2,68.2,68.3,68.4,68.4,68.5,68.7,68.7,68.7,68.9,68.9,69.0,69.0,69.1,69.1,69.1,69.2,69.3,69.3,69.3,69.4,69.5,69.5,69.6,69.7,69.9,69.9,69.9,70.0,70.0,70.0,70.1,70.2,70.3,70.3,70.3,70.4,70.4,70.4,70.5,70.5,70.7,70.7,70.8,70.8,70.8,70.9,70.9,71.0,71.0,71.1,71.1,71.1,71.1,71.4,71.4,71.5,71.5,71.6,71.6,71.8,71.9,71.9,71.9,71.9,71.9,71.9,72.0,72.1,72.2,72.3,72.4,72.4,72.5,72.6,72.6,72.7,72.8,72.8,72.9,73.1,73.2,73.3,73.3,73.3,73.3,73.4,73.4,73.5,73.5,73.6,73.8,73.8,73.8,73.8,73.8,73.9,73.9,74.0,74.0,74.0,74.1,74.2,74.2,74.2,74.3,74.3,74.5,74.6,74.6,74.7,74.7,74.7,74.8,74.8,74.8,74.8,75.0,75.0,75.1,75.2,75.2,75.2,75.2,75.3,75.4,75.4,75.5,75.6,75.8,75.8,75.8,75.8,75.9,75.9,76.0,76.0,76.0,76.1,76.1,76.1,76.1,76.2,76.2,76.2,76.3,76.3,76.3,76.3,76.4,76.4,76.5,76.6,76.6,76.6,76.6,76.7,76.7,76.7,76.7,76.8,76.8,76.9,77.1,77.1,77.2,77.2,77.3,77.3,77.3,77.3,77.4,77.4,77.4,77.4,77.5,77.6,77.6,77.6,77.7,77.8,77.8,77.8,77.8,77.9,77.9,78.0,78.0,78.0,78.1,78.1,78.2,78.2,78.2,78.2,78.2,78.3,78.3,78.3,78.4,78.4,78.4,78.5,78.5,78.6,78.6,78.7,78.7,78.7,78.7,78.8,78.8,78.8,78.9,78.9,79.0,79.1,79.2,79.2,79.2,79.2,79.2,79.2,79.3,79.3,79.4,79.5,79.7,79.7,79.7,79.7,79.7,79.8,79.8,79.8,79.8,79.8,79.9,79.9,79.9,79.9,80.0,80.0,80.0,80.1,80.1,80.2,80.2,80.2,80.3,80.3,80.4,80.4,80.4,80.4,80.5,80.5,80.6,80.6,80.7,80.8,80.8,80.9,80.9,80.9,80.9,80.9,81.0,81.1,81.1,81.1,81.1,81.2,81.2,81.2,81.2,81.2,81.3,81.4,81.4,81.4,81.4,81.5,81.5,81.5,81.6,81.7,81.8,81.8,81.8,81.9,81.9,82.0,82.0,82.1,82.1,82.2,82.2,82.2,82.3,82.3,82.3,82.4,82.4,82.4,82.4,82.5,82.5,82.6,82.6,82.6,82.7,82.7,82.7,82.9,83.0,83.0,83.1,83.1,83.1,83.2,83.2,83.3,83.3,83.3,83.4,83.4,83.5,83.5,83.5,83.5,83.5,83.6,83.6,83.7,83.8,83.8,83.8,83.8,83.9,83.9,83.9,84.0,84.1,84.2,84.2,84.2,84.3,84.4,84.5,84.5,84.7,84.7,84.7,84.8,84.8,84.8,84.9,84.9,84.9,84.9,85.0,85.1,85.1,85.1,85.1,85.2,85.2,85.2,85.2,85.3,85.3,85.5,85.5,85.5,85.6,85.7,85.7,85.7,85.7,85.8,85.8,85.8,85.9,85.9,85.9,85.9,85.9,86.1,86.1,86.2,86.2,86.3,86.4,86.4,86.4,86.4,86.5,86.5,86.5,86.7,86.7,86.7,86.8,86.8,86.9,87.0,87.0,87.0,87.1,87.1,87.1,87.2,87.2,87.2,87.2,87.3,87.3,87.4,87.4,87.5,87.6,87.6,87.6,87.7,87.9,87.9,88.0,88.0,88.1,88.1,88.2,88.2,88.2,88.2,88.2,88.2,88.3,88.3,88.5,88.5,88.5,88.5,88.5,88.5,88.6,88.6,88.7,88.7,88.7,88.7,88.7,88.9,89.0,89.1,89.1,89.2,89.2,89.2,89.3,89.4,89.4,89.5,89.5,89.6,89.6,89.6,89.6,89.6,89.8,89.9,89.9,89.9,89.9,89.9,90.0,90.0,90.0,90.0,90.0,90.0,90.1,90.1,90.1,90.2,90.2,90.3,90.4,90.7,90.7,90.8,90.9,91.0,91.2,91.2,91.3,91.3,91.3,91.3,91.3,91.4,91.4,91.4,91.5,91.5,91.5,91.5,91.5,91.5,91.6,91.6,91.7,91.7,91.7,91.7,91.8,91.8,91.8,91.9,91.9,92.1,92.1,92.1,92.1,92.2,92.2,92.3,92.4,92.5,92.5,92.5,92.6,92.6,92.6,92.7,92.7,92.8,92.8,93.0,93.1,93.1,93.1,93.1,93.2,93.2,93.2,93.3,93.4,93.4,93.4,93.4,93.5,93.5,93.5,93.6,93.7,93.7,93.7,93.8,93.9,93.9,94.0,94.0,94.1,94.2,94.2,94.3,94.3,94.3,94.4,94.4,94.4,94.6,94.6,94.6,94.6,94.7,94.7,95.1,95.1,95.2,95.3,95.3,95.3,95.5,95.5,95.6,95.6,95.6,95.7,95.9,96.0,96.0,96.1,96.2,96.2,96.2,96.2,96.3,96.3,96.3,96.3,96.3,96.4,96.4,96.5,96.5,96.6,96.7,96.7,96.7,96.8,96.8,96.8,96.8,96.9,96.9,96.9,97.0,97.1,97.1,97.2,97.2,97.3,97.3,97.3,97.3,97.4,97.4,97.5,97.6,97.6,97.6,97.7,97.7,97.8,97.8,97.9,98.0,98.1,98.1,98.2,98.2,98.2,98.3,98.3,98.5,98.6,98.6,98.6,98.7,98.8,98.9,99.0,99.1,99.3,99.4,99.4,99.4,99.6,99.6,99.7,99.8,99.8,99.8,100.0,100.0,100.0,100.1,100.1,100.1,100.2,100.2,100.4,100.5,100.6,100.6,100.6,100.7,100.7,100.9,100.9,100.9,100.9,101.0,101.0,101.1,101.3,101.5,101.5,101.6,101.7,101.7,101.7,101.8,101.9,101.9,102.1,102.1,102.1,102.2,102.2,102.2,102.3,102.3,102.4,102.4,102.5,102.5,102.6,102.6,102.7,102.8,102.8,102.9,102.9,102.9,103.0,103.1,103.2,103.3,103.3,103.4,103.5,103.5,103.6,103.7,103.9,104.2,104.2,104.4,104.4,104.4,104.5,104.6,104.6,104.6,104.6,104.9,105.0,105.3,105.3,105.3,105.6,105.6,105.7,105.9,106.1,106.2,106.2,106.2,106.2,107.2,107.5,107.5,107.6,107.6,107.7,107.7,107.8,107.8,107.8,108.0,108.1,108.1,108.6,108.7,108.7,108.8,109.0,109.1,109.1,109.1,109.1,109.2,109.4,109.4,109.5,109.7,109.8,109.8,110.0,110.0,110.0,110.3,110.4,110.4,110.5,110.9,111.1,111.3,111.4,111.4,111.4,111.5,111.7,111.7,111.8,111.8,111.8,111.9,112.0,112.1,112.6,112.9,113.2,114.3,114.5,115.5,115.9,115.9,117.1,117.6,120.5,120.8,121.4,121.6,121.6,122.2,122.6,123.0,123.2,123.9,124.6,125.0,125.4,125.5,127.0,127.5,129.3,129.4,129.5,130.4,132.7,134.0,134.1,135.1,135.9,136.4,136.4,137.3,138.7,138.7,138.9,139.5,139.9,140.1,140.2,140.3,140.7,141.0,141.0,144.2,146.5,146.9,147.0,147.9,149.5,150.9,151.7,152.2,152.2,152.7,153.0,153.0,153.2,154.0,155.4,155.8,156.5,156.7,157.7,158.3,159.8,160.7,161.0,161.4,163.8,163.9,164.2,167.0,167.6,168.5,168.6,169.2,173.8,174.2,174.5,178.8,179.7,184.1,199.2],\"y\":[77.8,80.0,78.2,79.5,80.0,77.6,76.6,76.9,77.7,78.1,78.4,77.7,79.3,76.4,76.6,74.7,77.4,78.9,76.5,78.7,71.8,74.2,77.5,77.7,78.9,72.8,75.7,75.1,69.5,71.0,77.4,78.6,74.4,79.8,79.3,74.9,70.6,78.7,73.8,76.7,79.7,73.2,78.0,72.2,78.1,79.4,78.8,73.9,70.4,78.8,73.5,73.9,76.8,78.6,74.1,68.8,74.1,79.7,77.3,75.2,69.9,68.9,70.4,72.4,72.8,68.3,77.0,76.0,77.1,75.4,74.1,72.7,79.1,71.3,79.1,75.0,73.6,73.0,77.7,71.6,72.9,79.2,75.4,79.7,64.4,76.0,69.0,79.8,68.8,77.2,68.6,70.3,68.6,72.0,69.2,72.8,68.0,74.9,77.6,69.0,77.9,74.2,73.9,70.8,75.2,76.0,79.6,72.1,76.9,76.6,78.2,67.3,72.9,77.0,79.3,75.1,76.5,67.6,74.1,73.4,72.7,75.3,76.5,71.0,61.7,79.2,78.0,66.9,74.9,73.1,76.1,75.7,75.8,65.1,66.9,73.2,76.5,71.0,60.8,72.3,73.1,80.0,78.1,68.9,74.6,67.3,75.0,71.4,72.0,62.6,64.3,69.0,66.1,67.0,64.2,71.6,74.4,77.2,74.8,75.5,79.2,63.7,75.6,74.0,68.6,79.2,79.2,75.2,72.1,68.6,64.7,59.2,67.5,67.9,71.4,75.8,71.8,75.6,77.3,73.5,66.0,66.6,68.6,69.4,72.5,70.9,62.2,68.9,74.9,67.2,60.5,62.3,70.4,77.4,64.0,70.2,74.4,71.0,60.5,72.3,66.8,64.8,76.1,69.7,77.3,70.1,65.2,74.0,77.1,70.6,66.7,73.4,75.5,70.5,79.5,75.0,76.6,77.2,60.9,72.1,65.8,73.2,77.8,65.8,64.8,75.2,69.7,79.4,65.5,76.1,67.8,63.5,60.6,77.8,60.9,79.4,72.1,62.6,69.3,75.8,75.8,79.0,66.7,73.8,73.9,74.3,70.2,63.8,70.1,73.4,76.1,72.3,78.0,77.1,79.6,60.8,77.3,79.4,66.9,73.4,74.6,75.6,75.4,64.8,70.4,79.4,75.9,73.5,73.4,67.7,66.0,71.1,61.2,74.3,66.5,60.6,76.3,70.1,77.2,72.7,64.7,79.5,64.6,67.6,71.6,73.7,71.5,66.4,69.2,70.7,77.8,61.8,71.3,72.1,77.0,68.3,60.7,76.9,71.9,66.8,68.1,67.2,61.5,60.2,77.3,75.5,65.3,71.1,68.1,78.3,70.7,65.7,67.6,74.3,61.6,71.9,62.6,74.7,69.6,70.5,62.8,78.4,68.8,64.1,69.4,65.7,67.9,68.4,74.9,78.5,59.0,73.0,72.0,71.8,70.2,60.9,65.6,76.4,64.2,67.8,59.5,61.2,59.0,76.0,79.9,79.2,68.4,74.4,67.4,65.9,78.8,67.8,65.9,71.5,79.8,74.0,64.8,67.5,70.0,75.5,78.7,67.3,61.7,66.4,67.2,74.3,59.8,69.9,65.0,63.2,62.0,61.3,79.7,63.4,78.7,77.6,70.9,65.7,59.5,70.2,76.2,67.9,75.7,77.9,78.4,79.6,64.5,73.8,65.6,67.7,68.0,79.9,66.3,63.6,62.3,68.1,60.3,65.0,61.2,70.6,66.1,75.5,79.1,78.9,72.9,63.4,67.9,67.4,72.3,77.2,64.8,75.7,68.1,70.2,66.7,69.1,72.1,61.5,74.8,65.3,72.6,61.9,63.2,66.1,66.1,63.9,69.9,61.1,59.4,65.3,64.5,60.0,64.8,62.2,72.3,69.8,60.0,59.2,72.4,59.5,78.8,75.1,60.4,60.1,75.1,73.6,67.2,76.4,63.5,62.1,77.0,73.9,60.7,71.9,61.2,76.5,80.0,63.4,63.1,76.8,68.6,59.2,69.2,79.7,64.9,72.4,79.8,61.7,77.0,72.8,65.0,69.8,67.8,69.2,71.6,72.1,60.1,74.5,65.0,68.4,66.7,68.8,72.6,66.3,62.8,75.4,69.9,61.8,66.2,77.0,59.7,69.7,78.5,65.8,73.1,62.0,61.2,63.7,69.3,66.3,62.4,64.8,66.5,72.9,70.6,76.6,73.8,71.0,62.0,78.2,72.6,71.5,71.4,65.6,59.8,73.4,74.9,74.3,75.8,67.7,64.3,70.1,74.2,78.4,69.5,67.3,73.9,59.8,61.0,79.9,64.6,65.2,65.9,59.5,74.1,75.8,72.3,69.7,65.3,77.5,76.0,73.0,71.3,79.2,60.3,63.0,79.6,74.3,63.1,62.9,71.5,66.6,79.9,69.7,68.6,76.8,70.3,68.6,70.6,61.8,74.8,76.3,78.2,59.6,65.3,76.6,63.9,75.4,77.4,61.2,75.3,74.4,63.3,59.2,79.1,77.7,65.8,65.3,72.4,76.9,68.4,64.5,70.8,68.6,67.1,59.7,72.7,73.4,76.7,73.6,69.6,70.2,63.7,61.0,65.4,77.4,73.4,65.4,70.8,63.3,78.1,59.1,69.9,66.8,76.3,76.2,69.4,68.1,69.2,76.7,69.2,68.8,79.5,72.7,73.5,63.1,70.6,76.1,67.4,71.0,62.9,75.2,75.3,71.7,59.2,65.4,61.8,74.8,62.9,74.3,70.8,74.7,74.8,68.6,61.9,76.8,67.8,76.7,74.3,76.1,59.5,59.2,76.2,60.4,65.8,63.6,76.0,71.7,71.7,60.0,67.8,72.1,66.6,77.2,62.7,69.1,70.2,73.9,75.6,62.0,73.0,70.8,65.8,62.6,70.7,75.9,68.7,62.1,72.5,66.4,74.2,78.7,76.8,73.5,68.8,61.2,68.8,73.9,60.0,67.1,75.0,74.5,69.1,60.5,68.7,76.0,74.3,59.0,73.7,61.1,67.7,74.4,66.0,74.6,68.4,63.7,70.3,72.7,60.8,77.8,63.7,74.1,74.1,67.6,71.1,59.7,71.6,70.7,71.9,70.1,66.1,64.9,72.0,67.2,72.8,59.8,75.3,67.5,70.8,60.0,61.1,60.3,67.7,67.8,59.7,61.3,69.8,62.4,67.1,62.6,79.4,59.9,69.9,74.4,76.7,65.9,63.9,72.1,68.0,67.7,74.7,77.4,68.2,67.5,71.9,70.2,64.0,65.3,71.3,69.5,74.9,63.4,68.8,71.5,65.3,67.3,76.7,62.2,64.7,60.2,61.6,64.3,70.2,68.4,64.2,69.0,60.8,60.1,71.1,75.8,64.1,69.0,67.0,66.3,62.8,72.9,68.9,73.3,59.5,70.8,61.1,59.5,64.8,62.6,68.6,73.0,62.7,70.9,61.3,68.1,59.9,60.8,68.5,67.1,64.9,64.0,70.6,64.2,72.9,72.9,62.4,67.5,62.8,73.4,60.3,72.5,69.7,65.4,69.8,62.6,73.8,62.2,68.4,60.3,70.8,74.9,73.1,62.5,64.7,73.3,76.5,63.5,63.3,65.6,65.9,62.4,65.5,59.6,70.3,59.7,66.1,62.4,69.3,68.1,66.1,59.4,66.3,59.8,59.9,64.7,65.4,59.5,67.1,64.6,65.5,63.3,66.6,60.4,70.8,62.0,63.7,60.3,64.9,60.7,64.5,62.1,59.1,71.1,63.1,60.8,59.5,71.0,69.7,63.2,59.5,63.9,61.1,68.5,65.7,63.4,60.9,62.2,59.9,65.9,65.2,63.1,64.4,62.4,66.9,60.3,67.1,67.0,67.7,60.0,60.6,65.3,67.3,67.9,64.6,64.5,64.7,57.8,59.1,63.5,59.4,60.6,60.4,62.9,66.6,63.7,60.3,59.3,64.0,65.7,62.8,60.8,59.1,61.8,60.6,60.0,60.7,40.3,59.8,31.2,63.5,59.1,51.1,57.2,29.9,51.2,45.3,52.6,54.6,59.0,46.7,54.3,48.5,49.9,45.2,45.9,54.9,44.6,53.5,41.9,47.6,31.7,48.0,27.4,49.8,56.8,33.5,55.3,54.5,52.5,15.9,31.4,23.2,50.0,40.8,23.2,46.7,33.5,43.8,12.1,19.9,33.5,54.9,15.3,29.5,40.1,53.1,27.8,19.0,14.9,11.5,41.8,18.1,40.5,18.9,47.4,10.4,44.2,25.1,40.5,17.0,49.7,41.4,16.1,34.6,12.1,13.7,22.2,21.6,23.0,39.6,29.6,35.2,37.7,40.1,28.8,8.1,30.7,23.0,34.3,36.2,31.5,63.7,1.3,31.7,25.8]}},\"id\":\"ec7d7e7e-d3b4-472f-a16b-f4ccb2204ba9\",\"type\":\"ColumnDataSource\"},{\"attributes\":{\"data_source\":{\"id\":\"02a434cf-4279-4d14-9950-c9c69762b932\",\"type\":\"ColumnDataSource\"},\"glyph\":{\"id\":\"405403d6-9204-4c9d-ba0b-ca4fdcb1550f\",\"type\":\"Circle\"},\"hover_glyph\":null,\"muted_glyph\":null,\"nonselection_glyph\":{\"id\":\"48440ee1-c0c8-4746-8b49-23ede1ba9bac\",\"type\":\"Circle\"},\"selection_glyph\":null,\"view\":{\"id\":\"acd36837-1f75-4c3a-a258-0be0a7cd93ab\",\"type\":\"CDSView\"}},\"id\":\"d26ccb02-66a7-46d7-ad6b-419e914258fc\",\"type\":\"GlyphRenderer\"}],\"root_ids\":[\"6d22663d-049c-4592-9f01-7fab48d27523\"]},\"title\":\"Bokeh Application\",\"version\":\"0.12.10\"}};\n",
       "          var render_items = [{\"docid\":\"abbec489-e74c-4401-9bd7-94e7c0c52cbe\",\"elementid\":\"09b3a380-62dc-4957-a5fc-1e7eed6e98cc\",\"modelid\":\"6d22663d-049c-4592-9f01-7fab48d27523\"}];\n",
       "      \n",
       "          root.Bokeh.embed.embed_items(docs_json, render_items);\n",
       "        }\n",
       "      \n",
       "        if (root.Bokeh !== undefined) {\n",
       "          embed_document(root);\n",
       "        } else {\n",
       "          var attempts = 0;\n",
       "          var timer = setInterval(function(root) {\n",
       "            if (root.Bokeh !== undefined) {\n",
       "              embed_document(root);\n",
       "              clearInterval(timer);\n",
       "            }\n",
       "            attempts++;\n",
       "            if (attempts > 100) {\n",
       "              console.log(\"Bokeh: ERROR: Unable to embed document because BokehJS library is missing\")\n",
       "              clearInterval(timer);\n",
       "            }\n",
       "          }, 10, root)\n",
       "        }\n",
       "      })(window);\n",
       "    });\n",
       "  };\n",
       "  if (document.readyState != \"loading\") fn();\n",
       "  else document.addEventListener(\"DOMContentLoaded\", fn);\n",
       "})();\n",
       "\n",
       "</script><div style=\"padding:5px\" id=\"pd-bkchartdiv-202ee529\">\n",
       "<div class=\"bk-root\">\n",
       "    <div id=\"F747BA0467AE4D58AF48E773E90E3604\" class=\"bk-plot-layout bk-layout-fixed\" style=\"position: relative; width: 726px; height: 490px;\"><div id=\"7A9528C152134C05B7071AE4AF13EB30\" class=\"bk-toolbar-wrapper\" style=\"left: 696px; top: 5px; width: 30px; height: 485px;\"><div class=\"bk-toolbar-right bk-toolbar-sticky\"><a href=\"https://bokeh.pydata.org/\" target=\"_blank\" class=\"bk-logo bk-logo-small\"></a><div class=\"bk-button-bar\"><div class=\"bk-button-bar-list\" type=\"pan\"><div id=\"A45F8685AF274A8DACF2E883BB9F57B0\" class=\"bk-toolbar-button bk-active\"><div class=\"bk-btn-icon bk-tool-icon-pan\"></div><span class=\"bk-tip\">Pan</span></div><div id=\"A42F79D7E2784AAB9D5EAB00CD0C2755\" class=\"bk-toolbar-button\"><div class=\"bk-btn-icon bk-tool-icon-box-zoom\"></div><span class=\"bk-tip\">Box Zoom</span></div></div><div class=\"bk-button-bar-list\" type=\"scroll\"><div id=\"6713E4D2928E4897A15A2D98EB7508E8\" class=\"bk-toolbar-button\"><div class=\"bk-btn-icon bk-tool-icon-wheel-zoom\"></div><span class=\"bk-tip\">Wheel Zoom</span></div></div><div class=\"bk-button-bar-list\" type=\"pinch\"></div><div class=\"bk-button-bar-list\" type=\"tap\"></div><div class=\"bk-button-bar-list\" type=\"press\"></div><div class=\"bk-button-bar-list\" type=\"rotate\"></div><div class=\"bk-button-bar-list\" type=\"actions\"><div id=\"526F1DA0085E4AF2A980CEAF1832DF0B\" class=\"bk-toolbar-button\"><div class=\"bk-btn-icon bk-tool-icon-save\"></div><span class=\"bk-tip\">Save</span></div><div id=\"06D5CCD8ECF24B2C870A83209DC81F99\" class=\"bk-toolbar-button\"><div class=\"bk-btn-icon bk-tool-icon-reset\"></div><span class=\"bk-tip\">Reset</span></div></div><div class=\"bk-button-bar-list\" type=\"inspectors\"><div id=\"984898B36BF041A8B93D2DA1972D923A\" class=\"bk-toolbar-button bk-active\"><div class=\"bk-btn-icon bk-tool-icon-hover\"></div><span class=\"bk-tip\">Hover</span></div></div><div class=\"bk-button-bar-list\" type=\"help\"><div id=\"0F52509FC4DB4D9ABFD7C4B485A05D7E\" class=\"bk-toolbar-button\"><div class=\"bk-btn-icon bk-tool-icon-help\"></div><span class=\"bk-tip\">Click the question mark to learn more about Bokeh plot tools.</span></div></div></div></div></div><div id=\"50732F269E284AC4883F3EBB468D2D70\" class=\"bk-plot-wrapper\" style=\"position: absolute; left: 0px; top: 0px; width: 726px; height: 490px;\"><div id=\"543071F3B6134628A41DC8CCBF2E2D6D\" class=\"bk-canvas-wrapper\" style=\"touch-action: none; user-select: none; -webkit-user-drag: none; -webkit-tap-highlight-color: rgba(0, 0, 0, 0);\"><div class=\"bk-canvas-events\"></div><div class=\"bk-canvas-overlays\"><div id=\"B572E2BD1D8E4997BBB6E476852C5398\" class=\"bk-shading\" style=\"display: none;\"></div></div><canvas class=\"bk-canvas\"></canvas></div></div></div>\n",
       "</div></div>\n",
       "                    \n",
       "                \n",
       "        </div>"
      ],
      "text/plain": [
       "<IPython.core.display.HTML object>"
      ]
     },
     "metadata": {},
     "output_type": "display_data"
    }
   ],
   "source": [
    "import pixiedust\n",
    "\n",
    "display(first_observation_df)"
   ]
  },
  {
   "cell_type": "markdown",
   "metadata": {},
   "source": [
    "## Build and train the model\n",
    "\n",
    "The visualization of the data showed that the strongest predictors of diabetes are the cholesterol observations.  This is an artifact of the diabetes simulation used to create the synthesized data.  The simulation uses a distinct range of HDL readings for diabetic vs. non-diabetic patients.\n",
    "\n",
    "The simulation increases the chance of high blood pressure (hypertension) for diabetics but the non-diabetic patients also can have high blood pressure.  Therefore the correlation of high blood pressure to diabetes isn't very strong.\n",
    "\n",
    "The simulation does not change the weight of any diabetic patients so BMI has no correlation.\n",
    "\n",
    "Let's continue using HDL and systolic blood pressure as the features for the model.  In reality more features would be needed to build a usable model.\n",
    "\n",
    "Create a pipeline that assembles the feature columns and runs a logistic regression algorithm.  Then use the observation data to train the model."
   ]
  },
  {
   "cell_type": "code",
   "execution_count": 19,
   "metadata": {},
   "outputs": [],
   "source": [
    "from pyspark.ml.feature import VectorAssembler\n",
    "from pyspark.ml.classification import LogisticRegression\n",
    "from pyspark.ml import Pipeline\n",
    "\n",
    "vectorAssembler_features = VectorAssembler(inputCols=[\"hdl\", \"systolic\"], outputCol=\"features\")\n",
    "\n",
    "lr = LogisticRegression(featuresCol = 'features', labelCol = 'diabetic', maxIter=10)\n",
    "\n",
    "pipeline = Pipeline(stages=[vectorAssembler_features, lr])"
   ]
  },
  {
   "cell_type": "markdown",
   "metadata": {},
   "source": [
    "### Split the observation data into two portions\n",
    "\n",
    "The larger portion (80% of the data) is used to train the model.\n",
    "The smaller portion (20% of the data) is used to test the model."
   ]
  },
  {
   "cell_type": "code",
   "execution_count": 20,
   "metadata": {},
   "outputs": [],
   "source": [
    "split_data = first_observation_df.randomSplit([0.8, 0.2], 24)\n",
    "train_data = split_data[0]\n",
    "test_data = split_data[1]"
   ]
  },
  {
   "cell_type": "markdown",
   "metadata": {},
   "source": [
    "### Train the model"
   ]
  },
  {
   "cell_type": "code",
   "execution_count": 21,
   "metadata": {},
   "outputs": [],
   "source": [
    "model = pipeline.fit(train_data)"
   ]
  },
  {
   "cell_type": "markdown",
   "metadata": {},
   "source": [
    "## Evaluate the model\n",
    "\n",
    "One way to evaluate the model is to plot a precision/recall curve.\n",
    "\n",
    "Precision measures the percentage of the predicted true outcomes that are actually true.\n",
    "\n",
    "Recall measures the percentage of the actual true conditions that are predicted as true.\n",
    "\n",
    "Ideally we want both precision and recall to be 100%.\n",
    "We want all of the diabetes predictions to actually have diabetes (precision = 1.0).\n",
    "We want all of the actual diabetics to be predicted to be diabetic (recall = 1.0).\n",
    "\n",
    "The model computes the probability of a true condition and then compares that to a threshold\n",
    "(by default 0.5) to make a final true of false determination.  The precision/recall curve plots\n",
    "precision and recall at various threhold values."
   ]
  },
  {
   "cell_type": "code",
   "execution_count": 22,
   "metadata": {},
   "outputs": [
    {
     "data": {
      "image/png": "[encoded data removed]",
      "text/plain": [
       "<matplotlib.figure.Figure at 0x2b66fe96b898>"
      ]
     },
     "metadata": {},
     "output_type": "display_data"
    }
   ],
   "source": [
    "# Plot the model's precision/recall curve.\n",
    "\n",
    "%matplotlib inline\n",
    "import matplotlib.pyplot as plt\n",
    "\n",
    "trainingSummary = model.stages[-1].summary\n",
    "\n",
    "pr = trainingSummary.pr.toPandas()\n",
    "plt.plot(pr['recall'],pr['precision'])\n",
    "plt.ylabel('Precision')\n",
    "plt.xlabel('Recall')\n",
    "plt.show()"
   ]
  },
  {
   "cell_type": "markdown",
   "metadata": {},
   "source": [
    "Let's use the model to make predictions using the test data.  We'll leave the threshold for deciding between a true or false result at the default value of 0.5."
   ]
  },
  {
   "cell_type": "code",
   "execution_count": 23,
   "metadata": {},
   "outputs": [],
   "source": [
    "predictions = model.transform(test_data)"
   ]
  },
  {
   "cell_type": "markdown",
   "metadata": {},
   "source": [
    "Compute recall and precision for the test predictions to see how well the model does."
   ]
  },
  {
   "cell_type": "code",
   "execution_count": 24,
   "metadata": {},
   "outputs": [
    {
     "name": "stdout",
     "output_type": "stream",
     "text": [
      "True positives  = 21\n",
      "False positives = 9\n",
      "False negatives = 29\n",
      "Recall = 0.42\n",
      "Precision = 0.7\n"
     ]
    }
   ],
   "source": [
    "pred_and_label = predictions.select(\"prediction\", \"diabetic\").toPandas()\n",
    "\n",
    "tp = pred_and_label[(pred_and_label.prediction == 1) & (pred_and_label.diabetic == 1)].count().tolist()[1]\n",
    "fp = pred_and_label[(pred_and_label.prediction == 1) & (pred_and_label.diabetic == 0)].count().tolist()[1]\n",
    "fn = pred_and_label[(pred_and_label.prediction == 0) & (pred_and_label.diabetic == 1)].count().tolist()[1]\n",
    "\n",
    "print(\"True positives  = %s\" % tp)\n",
    "print(\"False positives = %s\" % fp)\n",
    "print(\"False negatives = %s\" % fn)\n",
    "\n",
    "print(\"Recall = %s\" % (tp / (tp + fn)))\n",
    "print(\"Precision = %s\" % (tp / (tp + fp)))"
   ]
  },
  {
   "cell_type": "markdown",
   "metadata": {},
   "source": [
    "## Publish and deploy the model\n",
    "\n",
    "In this section you will learn how to store the model in the Watson Machine Learning repository by using the repository client.\n",
    "\n",
    "First install the client library."
   ]
  },
  {
   "cell_type": "code",
   "execution_count": 25,
   "metadata": {},
   "outputs": [
    {
     "name": "stdout",
     "output_type": "stream",
     "text": [
      "Collecting watson-machine-learning-client\n",
      "\u001b[?25l  Downloading https://files.pythonhosted.org/packages/7b/d4/cdde5b202b1c38ef124c2b147bce32004635d0ea19c2807301b2f4ffa459/watson_machine_learning_client-1.0.363-py3-none-any.whl (935kB)\n",
      "\u001b[K    100% |################################| 942kB 3.1MB/s eta 0:00:01\n",
      "\u001b[?25hCollecting certifi (from watson-machine-learning-client)\n",
      "\u001b[?25l  Downloading https://files.pythonhosted.org/packages/9f/e0/accfc1b56b57e9750eba272e24c4dddeac86852c2bebd1236674d7887e8a/certifi-2018.11.29-py2.py3-none-any.whl (154kB)\n",
      "\u001b[K    100% |################################| 163kB 4.2MB/s eta 0:00:01\n",
      "\u001b[?25hCollecting ibm-cos-sdk (from watson-machine-learning-client)\n",
      "\u001b[?25l  Downloading https://files.pythonhosted.org/packages/b1/d4/7e1fe33819b80d47dafa5c02c905f7acbbdff7e6cca9af668aaeaa127990/ibm-cos-sdk-2.4.4.tar.gz (50kB)\n",
      "\u001b[K    100% |################################| 51kB 2.3MB/s eta 0:00:01\n",
      "\u001b[?25hCollecting urllib3 (from watson-machine-learning-client)\n",
      "\u001b[?25l  Downloading https://files.pythonhosted.org/packages/62/00/ee1d7de624db8ba7090d1226aebefab96a2c71cd5cfa7629d6ad3f61b79e/urllib3-1.24.1-py2.py3-none-any.whl (118kB)\n",
      "\u001b[K    100% |################################| 122kB 3.7MB/s eta 0:00:01\n",
      "\u001b[?25hCollecting tqdm (from watson-machine-learning-client)\n",
      "\u001b[?25l  Downloading https://files.pythonhosted.org/packages/6c/4b/c38b5144cf167c4f52288517436ccafefe9dc01b8d1c190e18a6b154cd4a/tqdm-4.31.1-py2.py3-none-any.whl (48kB)\n",
      "\u001b[K    100% |################################| 51kB 2.1MB/s eta 0:00:01\n",
      "\u001b[?25hCollecting tabulate (from watson-machine-learning-client)\n",
      "\u001b[?25l  Downloading https://files.pythonhosted.org/packages/c2/fd/202954b3f0eb896c53b7b6f07390851b1fd2ca84aa95880d7ae4f434c4ac/tabulate-0.8.3.tar.gz (46kB)\n",
      "\u001b[K    100% |################################| 51kB 2.1MB/s eta 0:00:01\n",
      "\u001b[?25hCollecting pandas (from watson-machine-learning-client)\n",
      "\u001b[?25l  Downloading https://files.pythonhosted.org/packages/e2/a3/c42cd52e40527ba35aed53a988c485ffeddbae0722b8b756da82464baa73/pandas-0.24.1-cp35-cp35m-manylinux1_x86_64.whl (10.0MB)\n",
      "\u001b[K    100% |################################| 10.0MB 1.1MB/s eta 0:00:01\n",
      "\u001b[?25hCollecting requests (from watson-machine-learning-client)\n",
      "\u001b[?25l  Downloading https://files.pythonhosted.org/packages/7d/e3/20f3d364d6c8e5d2353c72a67778eb189176f08e873c9900e10c0287b84b/requests-2.21.0-py2.py3-none-any.whl (57kB)\n",
      "\u001b[K    100% |################################| 61kB 2.8MB/s eta 0:00:01\n",
      "\u001b[?25hCollecting lomond (from watson-machine-learning-client)\n",
      "  Downloading https://files.pythonhosted.org/packages/0f/b1/02eebed49c754b01b17de7705caa8c4ceecfb4f926cdafc220c863584360/lomond-0.3.3-py2.py3-none-any.whl\n",
      "Collecting ibm-cos-sdk-core==2.*,>=2.0.0 (from ibm-cos-sdk->watson-machine-learning-client)\n",
      "\u001b[?25l  Downloading https://files.pythonhosted.org/packages/85/72/99afcdf6b92840d47c8765533ef6093e43059424e3b35dd31049f09c8d7a/ibm-cos-sdk-core-2.4.4.tar.gz (1.1MB)\n",
      "\u001b[K    100% |################################| 1.1MB 3.8MB/s eta 0:00:01\n",
      "\u001b[?25hCollecting ibm-cos-sdk-s3transfer==2.*,>=2.0.0 (from ibm-cos-sdk->watson-machine-learning-client)\n",
      "\u001b[?25l  Downloading https://files.pythonhosted.org/packages/27/44/c71a4595d311772953775b3588307ac8dd5a36501b3dfda6324173b963cc/ibm-cos-sdk-s3transfer-2.4.4.tar.gz (214kB)\n",
      "\u001b[K    100% |################################| 215kB 3.9MB/s eta 0:00:01\n",
      "\u001b[?25hCollecting pytz>=2011k (from pandas->watson-machine-learning-client)\n",
      "\u001b[?25l  Downloading https://files.pythonhosted.org/packages/61/28/1d3920e4d1d50b19bc5d24398a7cd85cc7b9a75a490570d5a30c57622d34/pytz-2018.9-py2.py3-none-any.whl (510kB)\n",
      "\u001b[K    100% |################################| 512kB 3.9MB/s eta 0:00:01\n",
      "\u001b[?25hCollecting python-dateutil>=2.5.0 (from pandas->watson-machine-learning-client)\n",
      "\u001b[?25l  Downloading https://files.pythonhosted.org/packages/41/17/c62faccbfbd163c7f57f3844689e3a78bae1f403648a6afb1d0866d87fbb/python_dateutil-2.8.0-py2.py3-none-any.whl (226kB)\n",
      "\u001b[K    100% |################################| 235kB 3.9MB/s eta 0:00:01\n",
      "\u001b[?25hCollecting numpy>=1.12.0 (from pandas->watson-machine-learning-client)\n",
      "\u001b[?25l  Downloading https://files.pythonhosted.org/packages/e3/18/4f013c3c3051f4e0ffbaa4bf247050d6d5e527fe9cb1907f5975b172f23f/numpy-1.16.2-cp35-cp35m-manylinux1_x86_64.whl (17.2MB)\n",
      "\u001b[K    100% |################################| 17.2MB 831kB/s eta 0:00:01\n",
      "\u001b[?25hCollecting chardet<3.1.0,>=3.0.2 (from requests->watson-machine-learning-client)\n",
      "\u001b[?25l  Downloading https://files.pythonhosted.org/packages/bc/a9/01ffebfb562e4274b6487b4bb1ddec7ca55ec7510b22e4c51f14098443b8/chardet-3.0.4-py2.py3-none-any.whl (133kB)\n",
      "\u001b[K    100% |################################| 143kB 4.5MB/s eta 0:00:01\n",
      "\u001b[?25hCollecting idna<2.9,>=2.5 (from requests->watson-machine-learning-client)\n",
      "\u001b[?25l  Downloading https://files.pythonhosted.org/packages/14/2c/cd551d81dbe15200be1cf41cd03869a46fe7226e7450af7a6545bfc474c9/idna-2.8-py2.py3-none-any.whl (58kB)\n",
      "\u001b[K    100% |################################| 61kB 2.7MB/s eta 0:00:01\n",
      "\u001b[?25hCollecting six>=1.10.0 (from lomond->watson-machine-learning-client)\n",
      "  Downloading https://files.pythonhosted.org/packages/73/fb/00a976f728d0d1fecfe898238ce23f502a721c0ac0ecfedb80e0d88c64e9/six-1.12.0-py2.py3-none-any.whl\n",
      "Collecting jmespath<1.0.0,>=0.7.1 (from ibm-cos-sdk-core==2.*,>=2.0.0->ibm-cos-sdk->watson-machine-learning-client)\n",
      "  Downloading https://files.pythonhosted.org/packages/83/94/7179c3832a6d45b266ddb2aac329e101367fbdb11f425f13771d27f225bb/jmespath-0.9.4-py2.py3-none-any.whl\n",
      "Collecting docutils>=0.10 (from ibm-cos-sdk-core==2.*,>=2.0.0->ibm-cos-sdk->watson-machine-learning-client)\n",
      "\u001b[?25l  Downloading https://files.pythonhosted.org/packages/36/fa/08e9e6e0e3cbd1d362c3bbee8d01d0aedb2155c4ac112b19ef3cae8eed8d/docutils-0.14-py3-none-any.whl (543kB)\n",
      "\u001b[K    100% |################################| 552kB 4.2MB/s eta 0:00:01\n",
      "\u001b[?25hBuilding wheels for collected packages: ibm-cos-sdk, tabulate, ibm-cos-sdk-core, ibm-cos-sdk-s3transfer\n",
      "  Running setup.py bdist_wheel for ibm-cos-sdk ... \u001b[?25ldone\n",
      "\u001b[?25h  Stored in directory: /home/spark/shared/.cache/pip/wheels/e5/dc/54/f601cc8263513665653fbf124f6989dcbaeb218fcf1a8fd4d1\n",
      "  Running setup.py bdist_wheel for tabulate ... \u001b[?25ldone\n",
      "\u001b[?25h  Stored in directory: /home/spark/shared/.cache/pip/wheels/2b/67/89/414471314a2d15de625d184d8be6d38a03ae1e983dbda91e84\n",
      "  Running setup.py bdist_wheel for ibm-cos-sdk-core ... \u001b[?25ldone\n",
      "\u001b[?25h  Stored in directory: /home/spark/shared/.cache/pip/wheels/43/73/3e/79ee45c864491743309c46837d617c0550e58978659b8f742e\n",
      "  Running setup.py bdist_wheel for ibm-cos-sdk-s3transfer ... \u001b[?25ldone\n",
      "\u001b[?25h  Stored in directory: /home/spark/shared/.cache/pip/wheels/45/52/14/5239d330c7bd818043a3c578329f1ecff4f1d09694b4c7aa41\n",
      "Successfully built ibm-cos-sdk tabulate ibm-cos-sdk-core ibm-cos-sdk-s3transfer\n",
      "\u001b[31mtensorflow 1.3.0 requires tensorflow-tensorboard<0.2.0,>=0.1.0, which is not installed.\u001b[0m\n",
      "\u001b[31mpyspark 2.3.0 requires py4j==0.10.6, which is not installed.\u001b[0m\n",
      "Installing collected packages: certifi, jmespath, docutils, urllib3, six, python-dateutil, ibm-cos-sdk-core, ibm-cos-sdk-s3transfer, ibm-cos-sdk, tqdm, tabulate, pytz, numpy, pandas, chardet, idna, requests, lomond, watson-machine-learning-client\n",
      "Successfully installed certifi-2018.11.29 chardet-3.0.4 docutils-0.14 ibm-cos-sdk-2.4.4 ibm-cos-sdk-core-2.4.4 ibm-cos-sdk-s3transfer-2.4.4 idna-2.8 jmespath-0.9.4 lomond-0.3.3 numpy-1.16.2 pandas-0.24.1 python-dateutil-2.8.0 pytz-2018.9 requests-2.21.0 six-1.12.0 tabulate-0.8.3 tqdm-4.31.1 urllib3-1.24.1 watson-machine-learning-client-1.0.363\n"
     ]
    }
   ],
   "source": [
    "!rm -rf $PIP_BUILD/watson-machine-learning-client\n",
    "!pip install watson-machine-learning-client --upgrade"
   ]
  },
  {
   "cell_type": "markdown",
   "metadata": {},
   "source": [
    "### Enter your Watson Machine Learning service instance credentials here\n",
    "They can be found in the Service Credentials tab of the Watson Machine Learning service instance that you created on IBM Cloud."
   ]
  },
  {
   "cell_type": "code",
   "execution_count": 26,
   "metadata": {},
   "outputs": [],
   "source": [
    "wml_credentials={\n",
    "  \"url\": \"https://xxx.ibm.com\",\n",
    "  \"username\": \"xxxxxxxx-xxxx-xxxx-xxxx-xxxxxxxxxxxx\",\n",
    "  \"password\": \"xxxxxxxx-xxxx-xxxx-xxxx-xxxxxxxxxxxx\",\n",
    "  \"instance_id\": \"xxxxxxxx-xxxx-xxxx-xxxx-xxxxxxxxxxxx\"\n",
    "}"
   ]
  },
  {
   "cell_type": "markdown",
   "metadata": {},
   "source": [
    "### Publish the model to the repository using the client"
   ]
  },
  {
   "cell_type": "code",
   "execution_count": 27,
   "metadata": {},
   "outputs": [
    {
     "name": "stdout",
     "output_type": "stream",
     "text": [
      "model_uid:  e3be3fe1-3bd9-4670-b97a-03af983cdb40\n"
     ]
    }
   ],
   "source": [
    "from watson_machine_learning_client import WatsonMachineLearningAPIClient\n",
    "\n",
    "client = WatsonMachineLearningAPIClient(wml_credentials)\n",
    "\n",
    "model_props = {\n",
    "    client.repository.ModelMetaNames.NAME: \"diabetes-prediction-1\",\n",
    "}\n",
    "\n",
    "stored_model_details = client.repository.store_model(model, meta_props=model_props, training_data=train_data, pipeline=pipeline)\n",
    "\n",
    "model_uid            = client.repository.get_model_uid( stored_model_details )\n",
    "print( \"model_uid: \", model_uid )"
   ]
  },
  {
   "cell_type": "markdown",
   "metadata": {},
   "source": [
    "### Deploy the model as a web service"
   ]
  },
  {
   "cell_type": "code",
   "execution_count": 28,
   "metadata": {},
   "outputs": [
    {
     "name": "stdout",
     "output_type": "stream",
     "text": [
      "\n",
      "\n",
      "#######################################################################################\n",
      "\n",
      "Synchronous deployment creation for uid: 'e3be3fe1-3bd9-4670-b97a-03af983cdb40' started\n",
      "\n",
      "#######################################################################################\n",
      "\n",
      "\n",
      "INITIALIZING\n",
      "DEPLOY_SUCCESS\n",
      "\n",
      "\n",
      "------------------------------------------------------------------------------------------------\n",
      "Successfully finished deployment creation, deployment_uid='f22520a9-8518-459f-8613-5b50e16b08f2'\n",
      "------------------------------------------------------------------------------------------------\n",
      "\n",
      "\n",
      "https://us-south.ml.cloud.ibm.com/v3/wml_instances/4625e647-f20e-4d7c-b23c-f287445a8f23/deployments/f22520a9-8518-459f-8613-5b50e16b08f2/online\n"
     ]
    }
   ],
   "source": [
    "deployment_details = client.deployments.create(model_uid, 'diabetes-prediction-1 deployment')\n",
    "\n",
    "scoring_endpoint = client.deployments.get_scoring_url(deployment_details)\n",
    "print(scoring_endpoint)"
   ]
  },
  {
   "cell_type": "markdown",
   "metadata": {},
   "source": [
    "### Call the web service to make a prediction from some sample data"
   ]
  },
  {
   "cell_type": "code",
   "execution_count": 29,
   "metadata": {},
   "outputs": [
    {
     "name": "stdout",
     "output_type": "stream",
     "text": [
      "{'values': [[45.0, 156.6, [45.0, 156.6], [-0.3141354817235511, 0.3141354817235511], [0.4221056369793351, 0.5778943630206649], 1.0]], 'fields': ['hdl', 'systolic', 'features', 'rawPrediction', 'probability', 'prediction']}\n"
     ]
    }
   ],
   "source": [
    "scoring_payload = {\n",
    "    \"fields\": [\"hdl\", \"systolic\"],\n",
    "    \"values\": [[45.0, 156.6]]\n",
    "}\n",
    "\n",
    "score = client.deployments.score(scoring_endpoint, scoring_payload)\n",
    "\n",
    "print(str(score))"
   ]
  },
  {
   "cell_type": "code",
   "execution_count": null,
   "metadata": {},
   "outputs": [],
   "source": []
  }
 ],
 "metadata": {
  "kernelspec": {
   "display_name": "Python 3",
   "language": "python",
   "name": "python3"
  },
  "language_info": {
   "codemirror_mode": {
    "name": "ipython",
    "version": 3
   },
   "file_extension": ".py",
   "mimetype": "text/x-python",
   "name": "python",
   "nbconvert_exporter": "python",
   "pygments_lexer": "ipython3",
   "version": "3.7.2"
  }
 },
 "nbformat": 4,
 "nbformat_minor": 1
}
